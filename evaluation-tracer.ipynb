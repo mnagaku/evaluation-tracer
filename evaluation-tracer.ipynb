{
 "cells": [
  {
   "cell_type": "markdown",
   "metadata": {
    "lc_cell_meme": {
     "current": "d3c1ab84-a443-11e7-8601-0242ac130003",
     "next": "d2ca5112-9a08-11e7-9584-0242ac130004",
     "previous": null
    }
   },
   "source": [
    "# Evaluation Tracer の構築\n",
    "\n",
    "EvaluationTracerを構築し、データを取得・分析する準備を行います。"
   ]
  },
  {
   "cell_type": "markdown",
   "metadata": {
    "heading_collapsed": true,
    "lc_cell_meme": {
     "current": "d2ca5112-9a08-11e7-9584-0242ac130004",
     "history": [
      {
       "current": "d2ca5112-9a08-11e7-9584-0242ac130004",
       "next": "123de6b8-95e2-11e7-ae4f-0242ac110002",
       "previous": null
      },
      {
       "current": "d2ca5112-9a08-11e7-9584-0242ac130004",
       "next": "1a52d6a8-9a09-11e7-9584-0242ac130004",
       "previous": null
      },
      {
       "current": "d2ca5112-9a08-11e7-9584-0242ac130004",
       "next": "9a9e65ac-9b3f-11e7-a2e7-0242ac130004",
       "previous": null
      },
      {
       "current": "d2ca5112-9a08-11e7-9584-0242ac130004",
       "next": "1a52d6a8-9a09-11e7-9584-0242ac130004",
       "previous": null
      }
     ],
     "next": "1a52d6a8-9a09-11e7-9584-0242ac130004",
     "previous": "d3c1ab84-a443-11e7-8601-0242ac130003"
    }
   },
   "source": [
    "## Jupyter環境の準備\n",
    "\n",
    "JupyterからSupersetなどの他のコンテナへの操作を行えるようにDockerをインストールしておきます。Jupyter上でdockerコマンドを実行するために/var/run/docker.sockのボリュームマウントが必要ですが、これはコンテナ起動時に使うdocker-compose.ymlに記述済みです。\n",
    "\n",
    "本Jupyterコンテナ[niicloudoperation/notebook](https://hub.docker.com/r/niicloudoperation/notebook/)は[Dockerfile](https://github.com/NII-cloud-operation/Jupyter-LC_docker/blob/master/Dockerfile)を確認すると分かるようにdebian:jessieベースなので[公式ドキュメント：debianへのインストール方法](https://docs.docker.com/engine/installation/linux/docker-ce/debian/#install-using-the-repository)の手順を用います。"
   ]
  },
  {
   "cell_type": "code",
   "execution_count": null,
   "metadata": {
    "collapsed": true,
    "hidden": true,
    "lc_cell_meme": {
     "current": "1a52d6a8-9a09-11e7-9584-0242ac130004",
     "history": [
      {
       "current": "1a52d6a8-9a09-11e7-9584-0242ac130004",
       "next": "1a52db58-9a09-11e7-9584-0242ac130004",
       "previous": "d2ca5112-9a08-11e7-9584-0242ac130004"
      },
      {
       "current": "1a52d6a8-9a09-11e7-9584-0242ac130004",
       "next": "1a52db58-9a09-11e7-9584-0242ac130004",
       "previous": "9a9e65ac-9b3f-11e7-a2e7-0242ac130004"
      }
     ],
     "next": "1a52db58-9a09-11e7-9584-0242ac130004",
     "previous": "d2ca5112-9a08-11e7-9584-0242ac130004"
    }
   },
   "outputs": [],
   "source": [
    "!sudo apt-get update && sudo apt-get upgrade -y && \\\n",
    "sudo apt-get install -y apt-transport-https ca-certificates curl gnupg2 software-properties-common"
   ]
  },
  {
   "cell_type": "code",
   "execution_count": null,
   "metadata": {
    "collapsed": true,
    "hidden": true,
    "lc_cell_meme": {
     "current": "1a52db58-9a09-11e7-9584-0242ac130004",
     "history": [
      {
       "current": "1a52db58-9a09-11e7-9584-0242ac130004",
       "next": "123de6b8-95e2-11e7-ae4f-0242ac110002",
       "previous": "1a52d6a8-9a09-11e7-9584-0242ac130004"
      },
      {
       "current": "1a52db58-9a09-11e7-9584-0242ac130004",
       "next": "77de9944-95e3-11e7-ae4f-0242ac110002",
       "previous": "1a52d6a8-9a09-11e7-9584-0242ac130004"
      }
     ],
     "next": "d6d21ff8-9b41-11e7-a2e7-0242ac130004",
     "previous": "1a52d6a8-9a09-11e7-9584-0242ac130004"
    }
   },
   "outputs": [],
   "source": [
    "!curl -fsSL https://download.docker.com/linux/debian/gpg | sudo apt-key add -\n",
    "!sudo add-apt-repository \"deb [arch=amd64] https://download.docker.com/linux/debian $(lsb_release -cs) stable\"\n",
    "!sudo apt-get update && sudo apt-get install -y docker-ce"
   ]
  },
  {
   "cell_type": "markdown",
   "metadata": {
    "hidden": true,
    "lc_cell_meme": {
     "current": "d6d21ff8-9b41-11e7-a2e7-0242ac130004",
     "next": "77de9944-95e3-11e7-ae4f-0242ac110002",
     "previous": "1a52db58-9a09-11e7-9584-0242ac130004"
    }
   },
   "source": [
    "dockerコマンドの動作確認を行います。\n",
    "psで起動しているコンテナを確認すると、このJupyterの他に、Supersetとその動作に必要なRedis、PostgreSQLのコンテナが起動していて、\n",
    "合計4つのコンテナが動作中であることが確認できます。"
   ]
  },
  {
   "cell_type": "code",
   "execution_count": null,
   "metadata": {
    "collapsed": true,
    "hidden": true,
    "lc_cell_meme": {
     "current": "77de9944-95e3-11e7-ae4f-0242ac110002",
     "history": [
      {
       "current": "77de9944-95e3-11e7-ae4f-0242ac110002",
       "next": "123dedf2-95e2-11e7-ae4f-0242ac110002",
       "previous": "123de6b8-95e2-11e7-ae4f-0242ac110002"
      },
      {
       "current": "77de9944-95e3-11e7-ae4f-0242ac110002",
       "next": "2ca6c670-99eb-11e7-81c0-0242ac110002",
       "previous": "123de6b8-95e2-11e7-ae4f-0242ac110002"
      },
      {
       "current": "77de9944-95e3-11e7-ae4f-0242ac110002",
       "next": "123dedf2-95e2-11e7-ae4f-0242ac110002",
       "previous": "123de6b8-95e2-11e7-ae4f-0242ac110002"
      },
      {
       "current": "77de9944-95e3-11e7-ae4f-0242ac110002",
       "next": "d2ca52ac-9a08-11e7-9584-0242ac130004",
       "previous": "123de6b8-95e2-11e7-ae4f-0242ac110002"
      },
      {
       "current": "77de9944-95e3-11e7-ae4f-0242ac110002",
       "next": "d2ca52ac-9a08-11e7-9584-0242ac130004",
       "previous": "1a52db58-9a09-11e7-9584-0242ac130004"
      }
     ],
     "next": "d2ca52ac-9a08-11e7-9584-0242ac130004",
     "previous": "d6d21ff8-9b41-11e7-a2e7-0242ac130004"
    }
   },
   "outputs": [],
   "source": [
    "!sudo docker -v\n",
    "!sudo docker ps"
   ]
  },
  {
   "cell_type": "markdown",
   "metadata": {
    "heading_collapsed": true,
    "lc_cell_meme": {
     "current": "d2ca52ac-9a08-11e7-9584-0242ac130004",
     "history": [
      {
       "current": "d2ca52ac-9a08-11e7-9584-0242ac130004",
       "next": "123dedf2-95e2-11e7-ae4f-0242ac110002",
       "previous": "77de9944-95e3-11e7-ae4f-0242ac110002"
      },
      {
       "current": "d2ca52ac-9a08-11e7-9584-0242ac130004",
       "next": "9a69c2da-9945-11e7-b8d5-0242ac110002",
       "previous": "77de9944-95e3-11e7-ae4f-0242ac110002"
      },
      {
       "current": "d2ca52ac-9a08-11e7-9584-0242ac130004",
       "next": "f4bbd6a8-9cea-11e7-b917-02420aff0006",
       "previous": "77de9944-95e3-11e7-ae4f-0242ac110002"
      },
      {
       "current": "d2ca52ac-9a08-11e7-9584-0242ac130004",
       "next": "83c85c2c-9ceb-11e7-b917-02420aff0006",
       "previous": "77de9944-95e3-11e7-ae4f-0242ac110002"
      }
     ],
     "next": "4330b7b4-a988-11e7-b932-0242ac130002",
     "previous": "77de9944-95e3-11e7-ae4f-0242ac110002"
    }
   },
   "source": [
    "## Supersetの初期化\n",
    "\n",
    "Supersetを使うためには、管理ユーザを作成するなどの初期化が必要です。dockerコマンド経由で、Supersetコンテナに、初期化スクリプトを実行させます。この時、引数として、管理ユーザ作成のための情報を渡します。必要なら、usernameやpasswordを修正して、実行してください。\n",
    "\n",
    "この初期化を行うとSupersetにアクセスしadmin/etpasswordでログインできるようになります。コンテナの動いているサーバの8088番ポートにwebブラウザでアクセスし、確認してください。"
   ]
  },
  {
   "cell_type": "markdown",
   "metadata": {
    "hidden": true,
    "lc_cell_meme": {
     "current": "4330b7b4-a988-11e7-b932-0242ac130002",
     "next": "4330bb24-a988-11e7-b932-0242ac130002",
     "previous": "d2ca52ac-9a08-11e7-9584-0242ac130004"
    }
   },
   "source": [
    "Python環境を整えます。"
   ]
  },
  {
   "cell_type": "code",
   "execution_count": null,
   "metadata": {
    "collapsed": true,
    "hidden": true,
    "lc_cell_meme": {
     "current": "4330bb24-a988-11e7-b932-0242ac130002",
     "next": "4330bc28-a988-11e7-b932-0242ac130002",
     "previous": "4330b7b4-a988-11e7-b932-0242ac130002"
    }
   },
   "outputs": [],
   "source": [
    "!sudo $CONDA3_DIR/bin/conda update conda --quiet --yes"
   ]
  },
  {
   "cell_type": "code",
   "execution_count": null,
   "metadata": {
    "collapsed": true,
    "hidden": true,
    "lc_cell_meme": {
     "current": "4330bc28-a988-11e7-b932-0242ac130002",
     "history": [
      {
       "current": "4330bc28-a988-11e7-b932-0242ac130002",
       "next": "25112eb8-a987-11e7-b932-0242ac130002",
       "previous": "4330bb24-a988-11e7-b932-0242ac130002"
      },
      {
       "current": "4330bc28-a988-11e7-b932-0242ac130002",
       "next": "83c85c2c-9ceb-11e7-b917-02420aff0006",
       "previous": "4330bb24-a988-11e7-b932-0242ac130002"
      },
      {
       "current": "4330bc28-a988-11e7-b932-0242ac130002",
       "next": "92299e08-a98d-11e7-b932-0242ac130002",
       "previous": "4330bb24-a988-11e7-b932-0242ac130002"
      }
     ],
     "next": "83c85c2c-9ceb-11e7-b917-02420aff0006",
     "previous": "4330bb24-a988-11e7-b932-0242ac130002"
    }
   },
   "outputs": [],
   "source": [
    "!sudo $CONDA3_DIR/bin/conda update --all --quiet --yes"
   ]
  },
  {
   "cell_type": "markdown",
   "metadata": {
    "hidden": true,
    "lc_cell_meme": {
     "current": "83c85c2c-9ceb-11e7-b917-02420aff0006",
     "history": [
      {
       "current": "83c85c2c-9ceb-11e7-b917-02420aff0006",
       "next": "f4bbd6a8-9cea-11e7-b917-02420aff0006",
       "previous": "d2ca52ac-9a08-11e7-9584-0242ac130004"
      },
      {
       "current": "83c85c2c-9ceb-11e7-b917-02420aff0006",
       "next": "25112eb8-a987-11e7-b932-0242ac130002",
       "previous": "d2ca52ac-9a08-11e7-9584-0242ac130004"
      },
      {
       "current": "83c85c2c-9ceb-11e7-b917-02420aff0006",
       "next": "f4bbd6a8-9cea-11e7-b917-02420aff0006",
       "previous": "25112eb8-a987-11e7-b932-0242ac130002"
      },
      {
       "current": "83c85c2c-9ceb-11e7-b917-02420aff0006",
       "next": "25112eb8-a987-11e7-b932-0242ac130002",
       "previous": "4330bc28-a988-11e7-b932-0242ac130002"
      },
      {
       "current": "83c85c2c-9ceb-11e7-b917-02420aff0006",
       "next": "25112eb8-a987-11e7-b932-0242ac130002",
       "previous": "92299e08-a98d-11e7-b932-0242ac130002"
      }
     ],
     "next": "25112eb8-a987-11e7-b932-0242ac130002",
     "previous": "4330bc28-a988-11e7-b932-0242ac130002"
    }
   },
   "source": [
    "Supersetのコンテナ名を確認し、Ansible経由で初期化を実施します。\n",
    "\n",
    "Ansibleって言いたいだけなので、そこはスルーしてください。\n",
    "\n",
    "playbookは[et-setup.yml](et-setup.yml)にあります。"
   ]
  },
  {
   "cell_type": "code",
   "execution_count": null,
   "metadata": {
    "collapsed": true,
    "hidden": true,
    "lc_cell_meme": {
     "current": "25112eb8-a987-11e7-b932-0242ac130002",
     "history": [
      {
       "current": "25112eb8-a987-11e7-b932-0242ac130002",
       "next": "f4bbd6a8-9cea-11e7-b917-02420aff0006",
       "previous": "83c85c2c-9ceb-11e7-b917-02420aff0006"
      },
      {
       "current": "25112eb8-a987-11e7-b932-0242ac130002",
       "next": "83c85c2c-9ceb-11e7-b917-02420aff0006",
       "previous": "4330bc28-a988-11e7-b932-0242ac130002"
      },
      {
       "current": "25112eb8-a987-11e7-b932-0242ac130002",
       "next": "f4bbd6a8-9cea-11e7-b917-02420aff0006",
       "previous": "83c85c2c-9ceb-11e7-b917-02420aff0006"
      },
      {
       "current": "25112eb8-a987-11e7-b932-0242ac130002",
       "next": "cb4dde3c-9ceb-11e7-b917-02420aff0006",
       "previous": "83c85c2c-9ceb-11e7-b917-02420aff0006"
      }
     ],
     "next": "ec54068e-9a88-11e7-8062-0242ac130003",
     "previous": "83c85c2c-9ceb-11e7-b917-02420aff0006"
    }
   },
   "outputs": [],
   "source": [
    "import subprocess\n",
    "\n",
    "ret = subprocess.check_output([\"sudo\", \"docker\", \"ps\", \"--filter\", \"name=superset\", \"--format\", \"{{.Names}}\"])\n",
    "superset_container_name = ret.decode('utf-8').strip()\n",
    "\n",
    "print(\"superset_container_name: \" + superset_container_name)\n",
    "\n",
    "print(subprocess.check_output(\n",
    "    ['sudo', 'ansible-playbook', '-i', superset_container_name+',', 'et-setup.yml', '-t', 'init'])\n",
    "      .decode('utf-8'))"
   ]
  },
  {
   "cell_type": "markdown",
   "metadata": {
    "heading_collapsed": true,
    "lc_cell_meme": {
     "current": "ec54068e-9a88-11e7-8062-0242ac130003",
     "history": [
      {
       "current": "ec54068e-9a88-11e7-8062-0242ac130003",
       "next": "ec540f8a-9a88-11e7-8062-0242ac130003",
       "previous": "9a69c2da-9945-11e7-b8d5-0242ac110002"
      },
      {
       "current": "ec54068e-9a88-11e7-8062-0242ac130003",
       "next": "7b907abc-9a89-11e7-8062-0242ac130003",
       "previous": "9a69c2da-9945-11e7-b8d5-0242ac110002"
      },
      {
       "current": "ec54068e-9a88-11e7-8062-0242ac130003",
       "next": "1307c3c2-9b44-11e7-a2e7-0242ac130004",
       "previous": "9a69c2da-9945-11e7-b8d5-0242ac110002"
      },
      {
       "current": "ec54068e-9a88-11e7-8062-0242ac130003",
       "next": "1307c3c2-9b44-11e7-a2e7-0242ac130004",
       "previous": "e5021c56-a98b-11e7-b932-0242ac130002"
      },
      {
       "current": "ec54068e-9a88-11e7-8062-0242ac130003",
       "next": "1307c3c2-9b44-11e7-a2e7-0242ac130004",
       "previous": "9a69c2da-9945-11e7-b8d5-0242ac110002"
      }
     ],
     "next": "1307c3c2-9b44-11e7-a2e7-0242ac130004",
     "previous": "25112eb8-a987-11e7-b932-0242ac130002"
    }
   },
   "source": [
    "## Superset の Evaluation Tracere 化\n",
    "\n",
    "EvaluationTracerの中にはメテオラが入っていなければなりません。cssを改変して、メテオラを入れます。"
   ]
  },
  {
   "cell_type": "markdown",
   "metadata": {
    "hidden": true,
    "lc_cell_meme": {
     "current": "1307c3c2-9b44-11e7-a2e7-0242ac130004",
     "next": "ec540f8a-9a88-11e7-8062-0242ac130003",
     "previous": "ec54068e-9a88-11e7-8062-0242ac130003"
    }
   },
   "source": [
    "Supersetにアクセスし、webブラウザの開発者機能を使って、stylesheetの適用状況を確認してみたところ、/static/assets/dist/theme.86bf0d5b20edd25ee233.cssの7481行から記述されているbodyセクションに背景画像を設定することができそうだと分かりました。\n",
    "このpathがSupersetコンテナ内のどこのディレクトリになるのか分かれば、改変できることになります。\n",
    "\n",
    "このコンテナを作った[Dockerfile](https://github.com/mnagaku/superset/blob/master/Dockerfile)を確認すると、supersetはpipでインストールされていることが分かるので、pipでインストールされたモジュールがどこのディレクトリに置かれるのかが分かれば良いことになります。\n",
    "\n",
    "グーグル先生に質問しながらコンテナ内を探ってみると、/usr/local/lib/python3.5/dist-packages/superset/static/assets/dist/theme.86bf0d5b20edd25ee233.cssを見つけることができました。\n",
    "\n",
    "このcssに背景画像を設定する行を追記します。\n",
    "\n",
    "貼り込む画像は、同じディレクトリの「bg.jpg」を指定しています。もし、別の形式の画像ファイルを貼り込みたい場合は、適切な拡張子を指定するようにしてください。\n",
    "\n",
    "先ほど取得したSupersetのコンテナ名を指定して、処理を行います。"
   ]
  },
  {
   "cell_type": "code",
   "execution_count": null,
   "metadata": {
    "collapsed": true,
    "hidden": true,
    "lc_cell_meme": {
     "current": "ec540f8a-9a88-11e7-8062-0242ac130003",
     "history": [
      {
       "current": "ec540f8a-9a88-11e7-8062-0242ac130003",
       "next": "30ae4afa-9a0d-11e7-a6f3-0242ac130002",
       "previous": "ec54068e-9a88-11e7-8062-0242ac130003"
      },
      {
       "current": "ec540f8a-9a88-11e7-8062-0242ac130003",
       "next": "30ae4afa-9a0d-11e7-a6f3-0242ac130002",
       "previous": "7b907abc-9a89-11e7-8062-0242ac130003"
      },
      {
       "current": "ec540f8a-9a88-11e7-8062-0242ac130003",
       "next": "7b907abc-9a89-11e7-8062-0242ac130003",
       "previous": "1307c3c2-9b44-11e7-a2e7-0242ac130004"
      },
      {
       "current": "ec540f8a-9a88-11e7-8062-0242ac130003",
       "next": "de48066c-9b46-11e7-a2e7-0242ac130004",
       "previous": "1307c3c2-9b44-11e7-a2e7-0242ac130004"
      },
      {
       "current": "ec540f8a-9a88-11e7-8062-0242ac130003",
       "next": "86979346-a9a2-11e7-b932-0242ac130002",
       "previous": "1307c3c2-9b44-11e7-a2e7-0242ac130004"
      }
     ],
     "next": "de48066c-9b46-11e7-a2e7-0242ac130004",
     "previous": "1307c3c2-9b44-11e7-a2e7-0242ac130004"
    },
    "run_control": {
     "marked": false
    }
   },
   "outputs": [],
   "source": [
    "import subprocess\n",
    "\n",
    "print(subprocess.check_output(\n",
    "    ['sudo', 'ansible-playbook', '-i', superset_container_name+',', 'et-setup.yml', '-t', 'change_css'])\n",
    "      .decode('utf-8'))"
   ]
  },
  {
   "cell_type": "markdown",
   "metadata": {
    "hidden": true,
    "lc_cell_meme": {
     "current": "de48066c-9b46-11e7-a2e7-0242ac130004",
     "history": [
      {
       "current": "de48066c-9b46-11e7-a2e7-0242ac130004",
       "next": "7b907abc-9a89-11e7-8062-0242ac130003",
       "previous": "ec540f8a-9a88-11e7-8062-0242ac130003"
      },
      {
       "current": "de48066c-9b46-11e7-a2e7-0242ac130004",
       "next": "7b907abc-9a89-11e7-8062-0242ac130003",
       "previous": "86979346-a9a2-11e7-b932-0242ac130002"
      }
     ],
     "next": "7b907abc-9a89-11e7-8062-0242ac130003",
     "previous": "ec540f8a-9a88-11e7-8062-0242ac130003"
    }
   },
   "source": [
    "wgetを使って、貼り込む画像をSupersetのコンテナ内にダウンロードします。ダウンロードする画像のURL指定は、お好みに合わせて変更してください。jpg以外の画像形式にしたい場合も、保存先の名前の拡張子を変更してください。"
   ]
  },
  {
   "cell_type": "code",
   "execution_count": null,
   "metadata": {
    "collapsed": true,
    "hidden": true,
    "lc_cell_meme": {
     "current": "7b907abc-9a89-11e7-8062-0242ac130003",
     "history": [
      {
       "current": "7b907abc-9a89-11e7-8062-0242ac130003",
       "next": "ec540f8a-9a88-11e7-8062-0242ac130003",
       "previous": "ec54068e-9a88-11e7-8062-0242ac130003"
      },
      {
       "current": "7b907abc-9a89-11e7-8062-0242ac130003",
       "next": "30ae4afa-9a0d-11e7-a6f3-0242ac130002",
       "previous": "ec540f8a-9a88-11e7-8062-0242ac130003"
      },
      {
       "current": "7b907abc-9a89-11e7-8062-0242ac130003",
       "next": "30ae4afa-9a0d-11e7-a6f3-0242ac130002",
       "previous": "de48066c-9b46-11e7-a2e7-0242ac130004"
      }
     ],
     "next": "55c18ae8-a447-11e7-8601-0242ac130003",
     "previous": "de48066c-9b46-11e7-a2e7-0242ac130004"
    }
   },
   "outputs": [],
   "source": [
    "import subprocess\n",
    "\n",
    "print(subprocess.check_output(\n",
    "    ['sudo', 'ansible-playbook', '-i', superset_container_name+',', 'et-setup.yml', '-t', 'get_jpg'])\n",
    "      .decode('utf-8'))"
   ]
  },
  {
   "cell_type": "markdown",
   "metadata": {
    "heading_collapsed": true,
    "lc_cell_meme": {
     "current": "55c18ae8-a447-11e7-8601-0242ac130003",
     "history": [
      {
       "current": "55c18ae8-a447-11e7-8601-0242ac130003",
       "next": null,
       "previous": "7b907abc-9a89-11e7-8062-0242ac130003"
      },
      {
       "current": "55c18ae8-a447-11e7-8601-0242ac130003",
       "next": null,
       "previous": "7b907abc-9a89-11e7-8062-0242ac130003"
      }
     ],
     "next": "10d746d8-a9c0-11e7-b932-0242ac130002",
     "previous": "7b907abc-9a89-11e7-8062-0242ac130003"
    }
   },
   "source": [
    "## Evaluation Tracer ができあがったら\n",
    "\n",
    "続けて、各種データを取得・グラフ化してみましょう。\n",
    "\n",
    "[Re:CREATORS](recreators.ipynb)\n",
    "\n",
    "[NewGame!](newgame1.ipynb)\n",
    "\n",
    "[NewGame!!](newgame2.ipynb)\n"
   ]
  },
  {
   "cell_type": "code",
   "execution_count": null,
   "metadata": {
    "hidden": true,
    "lc_cell_meme": {
     "current": "10d746d8-a9c0-11e7-b932-0242ac130002",
     "next": null,
     "previous": "55c18ae8-a447-11e7-8601-0242ac130003"
    }
   },
   "outputs": [],
   "source": [
    "from IPython.display import SVG\n",
    "\n",
    "SVG(filename='notebooks-filled.svg')"
   ]
  }
 ],
 "metadata": {
  "kernelspec": {
   "display_name": "Python 3",
   "language": "python",
   "name": "python3"
  },
  "language_info": {
   "codemirror_mode": {
    "name": "ipython",
    "version": 3
   },
   "file_extension": ".py",
   "mimetype": "text/x-python",
   "name": "python",
   "nbconvert_exporter": "python",
   "pygments_lexer": "ipython3",
   "version": "3.5.4"
  },
  "lc_notebook_meme": {
   "current": "123ddec0-95e2-11e7-ae4f-0242ac110002",
   "lc_server_signature": {
    "current": {
     "notebook_dir": "/notebooks",
     "notebook_path": "/evaluation-tracer",
     "server_url": "http://localhost:8888/",
     "signature_id": "cdfb1abc-a986-11e7-b932-0242ac130002"
    },
    "history": [
     {
      "notebook_dir": "/notebooks",
      "notebook_path": "/",
      "server_url": "http://localhost:8888/",
      "signature_id": "736a1d36-95e1-11e7-ae4f-0242ac110002"
     },
     {
      "notebook_dir": "/notebooks",
      "notebook_path": "/",
      "server_url": "http://localhost:8888/",
      "signature_id": "34d17da0-9a08-11e7-9584-0242ac130004"
     },
     {
      "notebook_dir": "/notebooks",
      "notebook_path": "/",
      "server_url": "http://localhost:8888/",
      "signature_id": "67242544-9a0a-11e7-8d5d-0242ac130002"
     },
     {
      "notebook_dir": "/notebooks",
      "notebook_path": "/",
      "server_url": "http://localhost:8888/",
      "signature_id": "93b0a194-9a0c-11e7-a6f3-0242ac130002"
     },
     {
      "notebook_dir": "/notebooks",
      "notebook_path": "/",
      "server_url": "http://localhost:8888/",
      "signature_id": "ff6e56f4-9a72-11e7-8062-0242ac130003"
     },
     {
      "notebook_dir": "/notebooks",
      "notebook_path": "/",
      "server_url": "http://localhost:8888/",
      "signature_id": "55dc5144-9aa0-11e7-a2e7-0242ac130004"
     },
     {
      "notebook_dir": "/notebooks",
      "notebook_path": "/evaluation-tracer",
      "server_url": "http://pwd10-0-10-3-8888.host2.labs.play-with-docker.com/",
      "signature_id": "08897664-9cea-11e7-b917-02420aff0006"
     },
     {
      "notebook_dir": "/notebooks",
      "notebook_path": "/evaluation-tracer",
      "server_url": "http://localhost:8888/",
      "signature_id": "ab4ad630-a43e-11e7-8601-0242ac130003"
     },
     {
      "notebook_dir": "/notebooks",
      "notebook_path": "/evaluation-tracer",
      "server_url": "http://pwd10-0-2-3-8888.host1.labs.play-with-docker.com/",
      "signature_id": "1140f36a-a4d1-11e7-a8ce-02420aff0006"
     }
    ]
   }
  },
  "toc": {
   "nav_menu": {
    "height": "332px",
    "width": "160px"
   },
   "number_sections": true,
   "sideBar": true,
   "skip_h1_title": false,
   "toc_cell": false,
   "toc_position": {
    "height": "853px",
    "left": "0px",
    "right": "1624px",
    "top": "106px",
    "width": "294px"
   },
   "toc_section_display": "block",
   "toc_window_display": true
  }
 },
 "nbformat": 4,
 "nbformat_minor": 2
}
