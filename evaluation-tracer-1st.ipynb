{
 "cells": [
  {
   "cell_type": "markdown",
   "metadata": {
    "lc_cell_meme": {
     "current": "477815e4-9b62-11e7-a2e7-0242ac130004",
     "next": "4778192c-9b62-11e7-a2e7-0242ac130004",
     "previous": null
    }
   },
   "source": [
    "# 素材一式の用意\n",
    "\n",
    "本ファイルをJupyterにUploadし実行することで、リポジトリから素材一式を git clone します。cloneしたら、[main](/notebooks/evaluation-tracer/evaluation-tracer-main.ipynb)に進んでください。"
   ]
  },
  {
   "cell_type": "code",
   "execution_count": null,
   "metadata": {
    "collapsed": true,
    "lc_cell_meme": {
     "current": "4778192c-9b62-11e7-a2e7-0242ac130004",
     "next": null,
     "previous": "477815e4-9b62-11e7-a2e7-0242ac130004"
    }
   },
   "outputs": [],
   "source": [
    "!git clone --depth 1 https://github.com/mnagaku/evaluation-tracer.git"
   ]
  }
 ],
 "metadata": {
  "kernelspec": {
   "display_name": "Python 3",
   "language": "python",
   "name": "python3"
  },
  "language_info": {
   "codemirror_mode": {
    "name": "ipython",
    "version": 3
   },
   "file_extension": ".py",
   "mimetype": "text/x-python",
   "name": "python",
   "nbconvert_exporter": "python",
   "pygments_lexer": "ipython3",
   "version": "3.5.2"
  },
  "lc_notebook_meme": {
   "current": "47781030-9b62-11e7-a2e7-0242ac130004",
   "lc_server_signature": {
    "current": {
     "notebook_dir": "/notebooks",
     "notebook_path": "/",
     "server_url": "http://localhost:8888/",
     "signature_id": "55dc5144-9aa0-11e7-a2e7-0242ac130004"
    },
    "history": []
   }
  },
  "toc": {
   "nav_menu": {},
   "number_sections": true,
   "sideBar": true,
   "skip_h1_title": false,
   "toc_cell": false,
   "toc_position": {},
   "toc_section_display": "block",
   "toc_window_display": false
  }
 },
 "nbformat": 4,
 "nbformat_minor": 2
}
