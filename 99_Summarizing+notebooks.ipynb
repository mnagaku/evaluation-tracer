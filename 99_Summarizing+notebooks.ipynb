{
 "cells": [
  {
   "cell_type": "markdown",
   "metadata": {
    "collapsed": true,
    "lc_cell_meme": {
     "current": "f64e43ee-13c3-11e7-b31a-0242ac12000d",
     "history": [
      {
       "current": "f64e43ee-13c3-11e7-b31a-0242ac12000d",
       "next": "f64e4628-13c3-11e7-b31a-0242ac12000d",
       "previous": null
      }
     ],
     "next": "771e4f2e-1fd0-11e7-b31a-0242ac12000d",
     "previous": null
    },
    "nbpresent": {
     "id": "40314b59-e8b3-4aad-a218-07584ba2b71d"
    }
   },
   "source": [
    "# About: Notebookの利用フローまとめ\n",
    "\n",
    "----\n",
    "\n",
    "Notebookの利用フローを図としてまとめる例です。"
   ]
  },
  {
   "cell_type": "markdown",
   "metadata": {
    "lc_cell_meme": {
     "current": "771e4f2e-1fd0-11e7-b31a-0242ac12000d",
     "history": [
      {
       "current": "771e4f2e-1fd0-11e7-b31a-0242ac12000d",
       "next": "f64e4628-13c3-11e7-b31a-0242ac12000d",
       "previous": "f64e43ee-13c3-11e7-b31a-0242ac12000d"
      },
      {
       "current": "771e4f2e-1fd0-11e7-b31a-0242ac12000d",
       "next": "bea97c06-1fd0-11e7-b31a-0242ac12000d",
       "previous": "f64e43ee-13c3-11e7-b31a-0242ac12000d"
      }
     ],
     "next": "0630e4d8-1fd1-11e7-b31a-0242ac12000d",
     "previous": "f64e43ee-13c3-11e7-b31a-0242ac12000d"
    }
   },
   "source": [
    "# 必要なツール\n",
    "\n",
    "このNotebookの実行には[blockdiag](http://blockdiag.com/ja/blockdiag/)が必要です。"
   ]
  },
  {
   "cell_type": "code",
   "execution_count": 5,
   "metadata": {
    "deletable": false,
    "editable": false,
    "lc_cell_meme": {
     "current": "0630e4d8-1fd1-11e7-b31a-0242ac12000d",
     "next": "0630e942-1fd1-11e7-b31a-0242ac12000d",
     "previous": "771e4f2e-1fd0-11e7-b31a-0242ac12000d"
    },
    "run_control": {
     "frozen": true
    },
    "run_through_control": {
     "frozen": true
    }
   },
   "outputs": [
    {
     "name": "stdout",
     "output_type": "stream",
     "text": [
      "/usr/local/bin/blockdiag\r\n"
     ]
    }
   ],
   "source": [
    "!which blockdiag"
   ]
  },
  {
   "cell_type": "markdown",
   "metadata": {
    "lc_cell_meme": {
     "current": "0630e942-1fd1-11e7-b31a-0242ac12000d",
     "next": "bea97c06-1fd0-11e7-b31a-0242ac12000d",
     "previous": "0630e4d8-1fd1-11e7-b31a-0242ac12000d"
    }
   },
   "source": [
    "このNotebook環境にblockdiagコマンドがインストールされていない場合は、以下のようにしてblockdiagパッケージをインストールします。\n",
    "(pipコマンドの場所は環境により異なります。)\n",
    "\n",
    "lxmlも必要なので入れておきます。"
   ]
  },
  {
   "cell_type": "code",
   "execution_count": 15,
   "metadata": {
    "deletable": false,
    "editable": false,
    "lc_cell_meme": {
     "current": "bea97c06-1fd0-11e7-b31a-0242ac12000d",
     "history": [
      {
       "current": "bea97c06-1fd0-11e7-b31a-0242ac12000d",
       "next": "f64e4628-13c3-11e7-b31a-0242ac12000d",
       "previous": "771e4f2e-1fd0-11e7-b31a-0242ac12000d"
      },
      {
       "current": "bea97c06-1fd0-11e7-b31a-0242ac12000d",
       "next": "f64e4bfa-13c3-11e7-b31a-0242ac12000d",
       "previous": "0630e942-1fd1-11e7-b31a-0242ac12000d"
      }
     ],
     "next": "79dae028-a717-11e7-870a-02420aff0006",
     "previous": "0630e942-1fd1-11e7-b31a-0242ac12000d"
    },
    "run_control": {
     "frozen": true
    },
    "run_through_control": {
     "frozen": true
    }
   },
   "outputs": [
    {
     "name": "stdout",
     "output_type": "stream",
     "text": [
      "Requirement already satisfied: blockdiag in /usr/local/lib/python2.7/dist-packages\n",
      "Collecting lxml\n",
      "  Downloading lxml-4.0.0-cp27-cp27mu-manylinux1_x86_64.whl (5.3MB)\n",
      "\u001b[K    100% |████████████████████████████████| 5.3MB 194kB/s eta 0:00:01\n",
      "\u001b[?25hRequirement already satisfied: webcolors in /usr/local/lib/python2.7/dist-packages (from blockdiag)\n",
      "Requirement already satisfied: Pillow in /usr/local/lib/python2.7/dist-packages (from blockdiag)\n",
      "Requirement already satisfied: funcparserlib in /usr/local/lib/python2.7/dist-packages (from blockdiag)\n",
      "Requirement already satisfied: setuptools in /usr/local/lib/python2.7/dist-packages (from blockdiag)\n",
      "Requirement already satisfied: olefile in /usr/local/lib/python2.7/dist-packages (from Pillow->blockdiag)\n",
      "Installing collected packages: lxml\n",
      "Successfully installed lxml-4.0.0\n"
     ]
    }
   ],
   "source": [
    "!sudo pip2 install blockdiag lxml"
   ]
  },
  {
   "cell_type": "markdown",
   "metadata": {
    "lc_cell_meme": {
     "current": "79dae028-a717-11e7-870a-02420aff0006",
     "next": "79dae51e-a717-11e7-870a-02420aff0006",
     "previous": "bea97c06-1fd0-11e7-b31a-0242ac12000d"
    }
   },
   "source": [
    "fonts-japanese-gothic.ttfも入れておく"
   ]
  },
  {
   "cell_type": "code",
   "execution_count": 11,
   "metadata": {
    "lc_cell_meme": {
     "current": "79dae51e-a717-11e7-870a-02420aff0006",
     "next": "f64e4bfa-13c3-11e7-b31a-0242ac12000d",
     "previous": "79dae028-a717-11e7-870a-02420aff0006"
    }
   },
   "outputs": [
    {
     "name": "stdout",
     "output_type": "stream",
     "text": [
      "Ign http://cdn-fastly.deb.debian.org jessie InRelease\n",
      "Get:1 http://cdn-fastly.deb.debian.org jessie-updates InRelease [145 kB]\n",
      "Get:2 http://cdn-fastly.deb.debian.org jessie/updates InRelease [63.1 kB]\n",
      "Get:3 http://cdn-fastly.deb.debian.org jessie Release.gpg [2,373 B]\n",
      "Get:4 http://cdn-fastly.deb.debian.org jessie Release [148 kB]     \n",
      "Get:5 http://cdn-fastly.deb.debian.org jessie-updates/main amd64 Packages [23.1 kB]\n",
      "Get:6 http://cdn-fastly.deb.debian.org jessie/updates/main amd64 Packages [547 kB]\n",
      "Get:7 http://cdn-fastly.deb.debian.org jessie/main amd64 Packages [9,063 kB]\n",
      "Fetched 9,992 kB in 3s (2,833 kB/s)                    \n",
      "Reading package lists... Done\n",
      "Reading package lists... Done\n",
      "Building dependency tree       \n",
      "Reading state information... Done\n",
      "Calculating upgrade... Done\n",
      "The following packages will be upgraded:\n",
      "  bind9-host dnsutils emacs24 emacs24-bin-common emacs24-common git git-man\n",
      "  libbind9-90 libbluetooth3 libdns100 libgdk-pixbuf2.0-0\n",
      "  libgdk-pixbuf2.0-common libgs9 libgs9-common libisc95 libisccc90 libisccfg90\n",
      "  liblwres90 libperl5.20 libxen-4.4 libxenstore3.0 linux-libc-dev perl\n",
      "  perl-base perl-modules\n",
      "25 upgraded, 0 newly installed, 0 to remove and 0 not upgraded.\n",
      "Need to get 35.1 MB of archives.\n",
      "After this operation, 693 kB disk space will be freed.\n",
      "Get:1 http://cdn-fastly.deb.debian.org/debian-security/ jessie/updates/main perl amd64 5.20.2-3+deb8u9 [2,641 kB]\n",
      "Get:2 http://cdn-fastly.deb.debian.org/debian-security/ jessie/updates/main libperl5.20 amd64 5.20.2-3+deb8u9 [1,352 B]\n",
      "Get:3 http://cdn-fastly.deb.debian.org/debian-security/ jessie/updates/main perl-base amd64 5.20.2-3+deb8u9 [1,226 kB]\n",
      "Get:4 http://cdn-fastly.deb.debian.org/debian-security/ jessie/updates/main perl-modules all 5.20.2-3+deb8u9 [2,553 kB]\n",
      "Get:5 http://cdn-fastly.deb.debian.org/debian-security/ jessie/updates/main libbluetooth3 amd64 5.23-2+deb8u1 [84.5 kB]\n",
      "Get:6 http://cdn-fastly.deb.debian.org/debian-security/ jessie/updates/main libgdk-pixbuf2.0-0 amd64 2.31.1-2+deb8u6 [167 kB]\n",
      "Get:7 http://cdn-fastly.deb.debian.org/debian-security/ jessie/updates/main libgdk-pixbuf2.0-common all 2.31.1-2+deb8u6 [294 kB]\n",
      "Get:8 http://cdn-fastly.deb.debian.org/debian/ jessie-updates/main dnsutils amd64 1:9.9.5.dfsg-9+deb8u14 [119 kB]\n",
      "Get:9 http://cdn-fastly.deb.debian.org/debian/ jessie-updates/main bind9-host amd64 1:9.9.5.dfsg-9+deb8u14 [68.3 kB]\n",
      "Get:10 http://cdn-fastly.deb.debian.org/debian/ jessie-updates/main libisc95 amd64 1:9.9.5.dfsg-9+deb8u14 [170 kB]\n",
      "Get:11 http://cdn-fastly.deb.debian.org/debian/ jessie-updates/main libdns100 amd64 1:9.9.5.dfsg-9+deb8u14 [681 kB]\n",
      "Get:12 http://cdn-fastly.deb.debian.org/debian/ jessie-updates/main libisccc90 amd64 1:9.9.5.dfsg-9+deb8u14 [37.2 kB]\n",
      "Get:13 http://cdn-fastly.deb.debian.org/debian/ jessie-updates/main libisccfg90 amd64 1:9.9.5.dfsg-9+deb8u14 [57.8 kB]\n",
      "Get:14 http://cdn-fastly.deb.debian.org/debian/ jessie-updates/main liblwres90 amd64 1:9.9.5.dfsg-9+deb8u14 [53.7 kB]\n",
      "Get:15 http://cdn-fastly.deb.debian.org/debian/ jessie-updates/main libbind9-90 amd64 1:9.9.5.dfsg-9+deb8u14 [44.0 kB]\n",
      "Get:16 http://cdn-fastly.deb.debian.org/debian-security/ jessie/updates/main emacs24 amd64 24.4+1-5+deb8u1 [3,522 kB]\n",
      "Get:17 http://cdn-fastly.deb.debian.org/debian-security/ jessie/updates/main emacs24-bin-common amd64 24.4+1-5+deb8u1 [251 kB]\n",
      "Get:18 http://cdn-fastly.deb.debian.org/debian-security/ jessie/updates/main emacs24-common all 24.4+1-5+deb8u1 [12.8 MB]\n",
      "Get:19 http://cdn-fastly.deb.debian.org/debian-security/ jessie/updates/main git-man all 1:2.1.4-2.1+deb8u5 [1,268 kB]\n",
      "Get:20 http://cdn-fastly.deb.debian.org/debian-security/ jessie/updates/main git amd64 1:2.1.4-2.1+deb8u5 [3,694 kB]\n",
      "Get:21 http://cdn-fastly.deb.debian.org/debian-security/ jessie/updates/main libgs9 amd64 9.06~dfsg-2+deb8u6 [1,916 kB]\n",
      "Get:22 http://cdn-fastly.deb.debian.org/debian-security/ jessie/updates/main libgs9-common all 9.06~dfsg-2+deb8u6 [1,980 kB]\n",
      "Get:23 http://cdn-fastly.deb.debian.org/debian-security/ jessie/updates/main libxenstore3.0 amd64 4.4.1-9+deb8u10 [32.3 kB]\n",
      "Get:24 http://cdn-fastly.deb.debian.org/debian-security/ jessie/updates/main libxen-4.4 amd64 4.4.1-9+deb8u10 [298 kB]\n",
      "Get:25 http://cdn-fastly.deb.debian.org/debian-security/ jessie/updates/main linux-libc-dev amd64 3.16.43-2+deb8u5 [1,061 kB]\n",
      "Fetched 35.1 MB in 2s (17.4 MB/s)          \n",
      "debconf: delaying package configuration, since apt-utils is not installed\n",
      "(Reading database ... 84296 files and directories currently installed.)\n",
      "Preparing to unpack .../perl_5.20.2-3+deb8u9_amd64.deb ...\n",
      "Unpacking perl (5.20.2-3+deb8u9) over (5.20.2-3+deb8u8) ...\n",
      "Preparing to unpack .../libperl5.20_5.20.2-3+deb8u9_amd64.deb ...\n",
      "Unpacking libperl5.20 (5.20.2-3+deb8u9) over (5.20.2-3+deb8u8) ...\n",
      "Preparing to unpack .../perl-base_5.20.2-3+deb8u9_amd64.deb ...\n",
      "Unpacking perl-base (5.20.2-3+deb8u9) over (5.20.2-3+deb8u8) ...\n",
      "Setting up perl-base (5.20.2-3+deb8u9) ...\n",
      "(Reading database ... 84296 files and directories currently installed.)\n",
      "Preparing to unpack .../perl-modules_5.20.2-3+deb8u9_all.deb ...\n",
      "Unpacking perl-modules (5.20.2-3+deb8u9) over (5.20.2-3+deb8u8) ...\n",
      "Preparing to unpack .../libbluetooth3_5.23-2+deb8u1_amd64.deb ...\n",
      "Unpacking libbluetooth3:amd64 (5.23-2+deb8u1) over (5.23-2+b1) ...\n",
      "Preparing to unpack .../libgdk-pixbuf2.0-0_2.31.1-2+deb8u6_amd64.deb ...\n",
      "Unpacking libgdk-pixbuf2.0-0:amd64 (2.31.1-2+deb8u6) over (2.31.1-2+deb8u5) ...\n",
      "Preparing to unpack .../libgdk-pixbuf2.0-common_2.31.1-2+deb8u6_all.deb ...\n",
      "Unpacking libgdk-pixbuf2.0-common (2.31.1-2+deb8u6) over (2.31.1-2+deb8u5) ...\n",
      "Preparing to unpack .../dnsutils_1%3a9.9.5.dfsg-9+deb8u14_amd64.deb ...\n",
      "Unpacking dnsutils (1:9.9.5.dfsg-9+deb8u14) over (1:9.9.5.dfsg-9+deb8u13) ...\n",
      "Preparing to unpack .../bind9-host_1%3a9.9.5.dfsg-9+deb8u14_amd64.deb ...\n",
      "Unpacking bind9-host (1:9.9.5.dfsg-9+deb8u14) over (1:9.9.5.dfsg-9+deb8u13) ...\n",
      "Preparing to unpack .../libisc95_1%3a9.9.5.dfsg-9+deb8u14_amd64.deb ...\n",
      "Unpacking libisc95 (1:9.9.5.dfsg-9+deb8u14) over (1:9.9.5.dfsg-9+deb8u13) ...\n",
      "Preparing to unpack .../libdns100_1%3a9.9.5.dfsg-9+deb8u14_amd64.deb ...\n",
      "Unpacking libdns100 (1:9.9.5.dfsg-9+deb8u14) over (1:9.9.5.dfsg-9+deb8u13) ...\n",
      "Preparing to unpack .../libisccc90_1%3a9.9.5.dfsg-9+deb8u14_amd64.deb ...\n",
      "Unpacking libisccc90 (1:9.9.5.dfsg-9+deb8u14) over (1:9.9.5.dfsg-9+deb8u13) ...\n",
      "Preparing to unpack .../libisccfg90_1%3a9.9.5.dfsg-9+deb8u14_amd64.deb ...\n",
      "Unpacking libisccfg90 (1:9.9.5.dfsg-9+deb8u14) over (1:9.9.5.dfsg-9+deb8u13) ...\n",
      "Preparing to unpack .../liblwres90_1%3a9.9.5.dfsg-9+deb8u14_amd64.deb ...\n",
      "Unpacking liblwres90 (1:9.9.5.dfsg-9+deb8u14) over (1:9.9.5.dfsg-9+deb8u13) ...\n",
      "Preparing to unpack .../libbind9-90_1%3a9.9.5.dfsg-9+deb8u14_amd64.deb ...\n",
      "Unpacking libbind9-90 (1:9.9.5.dfsg-9+deb8u14) over (1:9.9.5.dfsg-9+deb8u13) ...\n",
      "Preparing to unpack .../emacs24_24.4+1-5+deb8u1_amd64.deb ...\n",
      "Remove dictionaries-common for emacs24\n",
      "remove/dictionaries-common: Purging byte-compiled files for flavour emacs24\n",
      "Remove emacsen-common for emacs24\n",
      "emacsen-common: Handling removal of emacsen flavor emacs24\n",
      "Unpacking emacs24 (24.4+1-5+deb8u1) over (24.4+1-5) ...\n",
      "Preparing to unpack .../emacs24-bin-common_24.4+1-5+deb8u1_amd64.deb ...\n",
      "Unpacking emacs24-bin-common (24.4+1-5+deb8u1) over (24.4+1-5) ...\n",
      "Preparing to unpack .../emacs24-common_24.4+1-5+deb8u1_all.deb ...\n",
      "Unpacking emacs24-common (24.4+1-5+deb8u1) over (24.4+1-5) ...\n",
      "Preparing to unpack .../git-man_1%3a2.1.4-2.1+deb8u5_all.deb ...\n",
      "Unpacking git-man (1:2.1.4-2.1+deb8u5) over (1:2.1.4-2.1+deb8u4) ...\n",
      "Preparing to unpack .../git_1%3a2.1.4-2.1+deb8u5_amd64.deb ...\n",
      "Unpacking git (1:2.1.4-2.1+deb8u5) over (1:2.1.4-2.1+deb8u4) ...\n",
      "Preparing to unpack .../libgs9_9.06~dfsg-2+deb8u6_amd64.deb ...\n",
      "Unpacking libgs9 (9.06~dfsg-2+deb8u6) over (9.06~dfsg-2+deb8u5) ...\n",
      "Preparing to unpack .../libgs9-common_9.06~dfsg-2+deb8u6_all.deb ...\n",
      "Unpacking libgs9-common (9.06~dfsg-2+deb8u6) over (9.06~dfsg-2+deb8u5) ...\n",
      "Preparing to unpack .../libxenstore3.0_4.4.1-9+deb8u10_amd64.deb ...\n",
      "Unpacking libxenstore3.0:amd64 (4.4.1-9+deb8u10) over (4.4.1-9+deb8u9) ...\n",
      "Preparing to unpack .../libxen-4.4_4.4.1-9+deb8u10_amd64.deb ...\n",
      "Unpacking libxen-4.4:amd64 (4.4.1-9+deb8u10) over (4.4.1-9+deb8u9) ...\n"
     ]
    },
    {
     "name": "stdout",
     "output_type": "stream",
     "text": [
      "Preparing to unpack .../linux-libc-dev_3.16.43-2+deb8u5_amd64.deb ...\n",
      "Unpacking linux-libc-dev:amd64 (3.16.43-2+deb8u5) over (3.16.43-2+deb8u3) ...\n",
      "Processing triggers for mime-support (3.58) ...\n",
      "Processing triggers for hicolor-icon-theme (0.13-1) ...\n",
      "Setting up perl-modules (5.20.2-3+deb8u9) ...\n",
      "Setting up perl (5.20.2-3+deb8u9) ...\n",
      "Setting up libperl5.20 (5.20.2-3+deb8u9) ...\n",
      "Setting up libbluetooth3:amd64 (5.23-2+deb8u1) ...\n",
      "Setting up libgdk-pixbuf2.0-common (2.31.1-2+deb8u6) ...\n",
      "Setting up libgdk-pixbuf2.0-0:amd64 (2.31.1-2+deb8u6) ...\n",
      "Setting up libisc95 (1:9.9.5.dfsg-9+deb8u14) ...\n",
      "Setting up libdns100 (1:9.9.5.dfsg-9+deb8u14) ...\n",
      "Setting up libisccc90 (1:9.9.5.dfsg-9+deb8u14) ...\n",
      "Setting up libisccfg90 (1:9.9.5.dfsg-9+deb8u14) ...\n",
      "Setting up libbind9-90 (1:9.9.5.dfsg-9+deb8u14) ...\n",
      "Setting up liblwres90 (1:9.9.5.dfsg-9+deb8u14) ...\n",
      "Setting up bind9-host (1:9.9.5.dfsg-9+deb8u14) ...\n",
      "Setting up dnsutils (1:9.9.5.dfsg-9+deb8u14) ...\n",
      "Setting up emacs24-common (24.4+1-5+deb8u1) ...\n",
      "Setting up emacs24-bin-common (24.4+1-5+deb8u1) ...\n",
      "Setting up emacs24 (24.4+1-5+deb8u1) ...\n",
      "Install emacsen-common for emacs24\n",
      "emacsen-common: Handling install of emacsen flavor emacs24\n",
      "Wrote /etc/emacs24/site-start.d/00debian-vars.elc\n",
      "Wrote /usr/share/emacs24/site-lisp/debian-startup.elc\n",
      "Install dictionaries-common for emacs24\n",
      "install/dictionaries-common: Byte-compiling for emacsen flavour emacs24\n",
      "Wrote /usr/share/emacs24/site-lisp/dictionaries-common/debian-ispell.elc\n",
      "Wrote /usr/share/emacs24/site-lisp/dictionaries-common/ispell.elc\n",
      "Wrote /usr/share/emacs24/site-lisp/dictionaries-common/flyspell.elc\n",
      "Setting up git-man (1:2.1.4-2.1+deb8u5) ...\n",
      "Setting up git (1:2.1.4-2.1+deb8u5) ...\n",
      "Setting up libgs9-common (9.06~dfsg-2+deb8u6) ...\n",
      "Setting up libgs9 (9.06~dfsg-2+deb8u6) ...\n",
      "Setting up libxenstore3.0:amd64 (4.4.1-9+deb8u10) ...\n",
      "Setting up libxen-4.4:amd64 (4.4.1-9+deb8u10) ...\n",
      "Setting up linux-libc-dev:amd64 (3.16.43-2+deb8u5) ...\n",
      "Processing triggers for libc-bin (2.19-18+deb8u10) ...\n",
      "Reading package lists... Done\n",
      "Building dependency tree       \n",
      "Reading state information... Done\n",
      "Suggested packages:\n",
      "  fonts-ipaexfont-mincho\n",
      "The following NEW packages will be installed:\n",
      "  fonts-ipaexfont-gothic\n",
      "0 upgraded, 1 newly installed, 0 to remove and 0 not upgraded.\n",
      "Need to get 3,341 kB of archives.\n",
      "After this operation, 6,177 kB of additional disk space will be used.\n",
      "Get:1 http://cdn-fastly.deb.debian.org/debian/ jessie/main fonts-ipaexfont-gothic all 00201-4 [3,341 kB]\n",
      "Fetched 3,341 kB in 0s (25.5 MB/s)               \n",
      "debconf: delaying package configuration, since apt-utils is not installed\n",
      "Selecting previously unselected package fonts-ipaexfont-gothic.\n",
      "(Reading database ... 84295 files and directories currently installed.)\n",
      "Preparing to unpack .../fonts-ipaexfont-gothic_00201-4_all.deb ...\n",
      "Unpacking fonts-ipaexfont-gothic (00201-4) ...\n",
      "Processing triggers for fontconfig (2.11.0-6.3+deb8u1) ...\n",
      "Setting up fonts-ipaexfont-gothic (00201-4) ...\n",
      "update-alternatives: using /usr/share/fonts/opentype/ipaexfont-gothic/ipaexg.ttf to provide /usr/share/fonts/truetype/fonts-japanese-gothic.ttf (fonts-japanese-gothic.ttf) in auto mode\n"
     ]
    }
   ],
   "source": [
    "!sudo apt-get update && sudo apt-get upgrade -y\n",
    "!sudo apt-get install -y fonts-ipaexfont-gothic"
   ]
  },
  {
   "cell_type": "markdown",
   "metadata": {
    "collapsed": true,
    "lc_cell_meme": {
     "current": "f64e4bfa-13c3-11e7-b31a-0242ac12000d",
     "history": [
      {
       "current": "f64e4bfa-13c3-11e7-b31a-0242ac12000d",
       "next": "f64e4dd0-13c3-11e7-b31a-0242ac12000d",
       "previous": "f64e4a1a-13c3-11e7-b31a-0242ac12000d"
      },
      {
       "current": "f64e4bfa-13c3-11e7-b31a-0242ac12000d",
       "next": "3dd51a6c-13c4-11e7-b31a-0242ac12000d",
       "previous": "f64e4a1a-13c3-11e7-b31a-0242ac12000d"
      },
      {
       "current": "f64e4bfa-13c3-11e7-b31a-0242ac12000d",
       "next": "3dd51a6c-13c4-11e7-b31a-0242ac12000d",
       "previous": "250a00b2-13f9-11e7-b31a-0242ac12000d"
      },
      {
       "current": "f64e4bfa-13c3-11e7-b31a-0242ac12000d",
       "next": "3dd51a6c-13c4-11e7-b31a-0242ac12000d",
       "previous": "f64e5c30-13c3-11e7-b31a-0242ac12000d"
      },
      {
       "current": "f64e4bfa-13c3-11e7-b31a-0242ac12000d",
       "next": "f64e4dd0-13c3-11e7-b31a-0242ac12000d",
       "previous": "bea97c06-1fd0-11e7-b31a-0242ac12000d"
      },
      {
       "current": "f64e4bfa-13c3-11e7-b31a-0242ac12000d",
       "next": "4db6179c-1fd1-11e7-b31a-0242ac12000d",
       "previous": "bea97c06-1fd0-11e7-b31a-0242ac12000d"
      }
     ],
     "next": "4db6179c-1fd1-11e7-b31a-0242ac12000d",
     "previous": "79dae51e-a717-11e7-870a-02420aff0006"
    },
    "nbpresent": {
     "id": "254432a4-e8fc-4d50-ac21-04a62e34643a"
    }
   },
   "source": [
    "# ブロック図による一覧生成\n",
    "\n",
    "以下のセルを実行(`Run All Below`)することで、Notebookがそれぞれどのような局面での利用を想定しているのか、ブロック図で確認することができます。\n",
    "\n",
    "ブロック図は `images/notebooks-filled.svg` として保存し、他のNotebookから必要に応じて参照することとします。"
   ]
  },
  {
   "cell_type": "markdown",
   "metadata": {
    "lc_cell_meme": {
     "current": "4db6179c-1fd1-11e7-b31a-0242ac12000d",
     "next": "f64e4dd0-13c3-11e7-b31a-0242ac12000d",
     "previous": "f64e4bfa-13c3-11e7-b31a-0242ac12000d"
    }
   },
   "source": [
    "一時ファイルは以下のディレクトリに作成します。"
   ]
  },
  {
   "cell_type": "code",
   "execution_count": 6,
   "metadata": {
    "lc_cell_meme": {
     "current": "f64e4dd0-13c3-11e7-b31a-0242ac12000d",
     "history": [
      {
       "current": "f64e4dd0-13c3-11e7-b31a-0242ac12000d",
       "next": "f64e4f9c-13c3-11e7-b31a-0242ac12000d",
       "previous": "f64e4bfa-13c3-11e7-b31a-0242ac12000d"
      },
      {
       "current": "f64e4dd0-13c3-11e7-b31a-0242ac12000d",
       "next": "f64e4f9c-13c3-11e7-b31a-0242ac12000d",
       "previous": "3dd51a6c-13c4-11e7-b31a-0242ac12000d"
      },
      {
       "current": "f64e4dd0-13c3-11e7-b31a-0242ac12000d",
       "next": "f64e4f9c-13c3-11e7-b31a-0242ac12000d",
       "previous": "f64e4bfa-13c3-11e7-b31a-0242ac12000d"
      }
     ],
     "next": "4db61d64-1fd1-11e7-b31a-0242ac12000d",
     "previous": "4db6179c-1fd1-11e7-b31a-0242ac12000d"
    },
    "run_control": {
     "frozen": true
    }
   },
   "outputs": [
    {
     "data": {
      "text/plain": [
       "'/tmp/tmpcES8FI'"
      ]
     },
     "execution_count": 6,
     "metadata": {},
     "output_type": "execute_result"
    }
   ],
   "source": [
    "import tempfile\n",
    "work_dir = tempfile.mkdtemp()\n",
    "work_dir"
   ]
  },
  {
   "cell_type": "markdown",
   "metadata": {
    "lc_cell_meme": {
     "current": "4db61d64-1fd1-11e7-b31a-0242ac12000d",
     "next": "f64e4f9c-13c3-11e7-b31a-0242ac12000d",
     "previous": "f64e4dd0-13c3-11e7-b31a-0242ac12000d"
    }
   },
   "source": [
    "## 雛形の生成\n",
    "\n",
    "まず、Notebookの利用フローを表したブロック図の雛形を作成します。\n",
    "\n",
    "今回は雛形作成は人手により行っています。各ブロックには、Notebook名の先頭文字列を与えるものとします。"
   ]
  },
  {
   "cell_type": "code",
   "execution_count": 31,
   "metadata": {
    "deletable": false,
    "editable": false,
    "lc_cell_meme": {
     "current": "f64e4f9c-13c3-11e7-b31a-0242ac12000d",
     "history": [
      {
       "current": "f64e4f9c-13c3-11e7-b31a-0242ac12000d",
       "next": "f64e5168-13c3-11e7-b31a-0242ac12000d",
       "previous": "f64e4dd0-13c3-11e7-b31a-0242ac12000d"
      },
      {
       "current": "f64e4f9c-13c3-11e7-b31a-0242ac12000d",
       "next": "f64e5168-13c3-11e7-b31a-0242ac12000d",
       "previous": "4db61d64-1fd1-11e7-b31a-0242ac12000d"
      }
     ],
     "next": "855aa226-13c4-11e7-b31a-0242ac12000d",
     "previous": "4db61d64-1fd1-11e7-b31a-0242ac12000d"
    },
    "run_control": {
     "frozen": true
    },
    "run_through_control": {
     "frozen": true
    }
   },
   "outputs": [
    {
     "name": "stdout",
     "output_type": "stream",
     "text": [
      "Overwriting /tmp/tmpcES8FI/notebooks.diag\n"
     ]
    }
   ],
   "source": [
    "%%writefile {work_dir}/notebooks.diag\n",
    "blockdiag {\n",
    "    node_width = 400;\n",
    "    node_height = 160;\n",
    "    \n",
    "    evaluation-tracer -> recreators\n",
    "    evaluation-tracer -> newgame1\n",
    "    evaluation-tracer -> newgame2\n",
    "    \n",
    "    group build {\n",
    "        label = \"構築\"\n",
    "        color = \"#f0f8ff\";\n",
    "\n",
    "        evaluation-tracer\n",
    "    }\n",
    "    group use {\n",
    "        label=\"分析\";\n",
    "        color = \"#f0f8ff\";\n",
    "        \n",
    "        recreators\n",
    "        newgame1\n",
    "        newgame2\n",
    "    }\n",
    "}"
   ]
  },
  {
   "cell_type": "markdown",
   "metadata": {
    "lc_cell_meme": {
     "current": "855aa226-13c4-11e7-b31a-0242ac12000d",
     "history": [
      {
       "current": "855aa226-13c4-11e7-b31a-0242ac12000d",
       "next": "f64e5334-13c3-11e7-b31a-0242ac12000d",
       "previous": "f64e5168-13c3-11e7-b31a-0242ac12000d"
      }
     ],
     "next": "f64e5334-13c3-11e7-b31a-0242ac12000d",
     "previous": "f64e4f9c-13c3-11e7-b31a-0242ac12000d"
    }
   },
   "source": [
    "雛形を作成します。以下のような表示となります。"
   ]
  },
  {
   "cell_type": "code",
   "execution_count": 32,
   "metadata": {
    "deletable": false,
    "editable": false,
    "lc_cell_meme": {
     "current": "f64e5334-13c3-11e7-b31a-0242ac12000d",
     "history": [
      {
       "current": "f64e5334-13c3-11e7-b31a-0242ac12000d",
       "next": "f64e550a-13c3-11e7-b31a-0242ac12000d",
       "previous": "f64e5168-13c3-11e7-b31a-0242ac12000d"
      }
     ],
     "next": "855aa7d0-13c4-11e7-b31a-0242ac12000d",
     "previous": "855aa226-13c4-11e7-b31a-0242ac12000d"
    },
    "run_control": {
     "frozen": true
    },
    "run_through_control": {
     "frozen": true
    },
    "scrolled": false
   },
   "outputs": [
    {
     "data": {
      "image/svg+xml": [
       "<svg viewBox=\"0 0 992 640\" xmlns=\"http://www.w3.org/2000/svg\" xmlns:inkspace=\"http://www.inkscape.org/namespaces/inkscape\" xmlns:xlink=\"http://www.w3.org/1999/xlink\">\n",
       "  <defs id=\"defs_block\">\n",
       "    <filter height=\"1.504\" id=\"filter_blur\" inkspace:collect=\"always\" width=\"1.1575\" x=\"-0.07875\" y=\"-0.252\">\n",
       "      <feGaussianBlur id=\"feGaussianBlur3780\" inkspace:collect=\"always\" stdDeviation=\"4.2\"/>\n",
       "    </filter>\n",
       "  </defs>\n",
       "  <title>blockdiag</title>\n",
       "  <desc>blockdiag {\n",
       "    node_width = 400;\n",
       "    node_height = 160;\n",
       "    \n",
       "    evaluation-tracer -&gt; recreators\n",
       "    evaluation-tracer -&gt; newgame1\n",
       "    evaluation-tracer -&gt; newgame2\n",
       "    \n",
       "    group build {\n",
       "        label = &quot;構築&quot;\n",
       "        color = &quot;#f0f8ff&quot;;\n",
       "\n",
       "        evaluation-tracer\n",
       "    }\n",
       "    group use {\n",
       "        label=&quot;分析&quot;;\n",
       "        color = &quot;#f0f8ff&quot;;\n",
       "        \n",
       "        recreators\n",
       "        newgame1\n",
       "        newgame2\n",
       "    }\n",
       "}</desc>\n",
       "  <rect fill=\"rgb(240,248,255)\" height=\"180\" style=\"filter:url(#filter_blur)\" width=\"416\" x=\"56\" y=\"30\"/>\n",
       "  <rect fill=\"rgb(240,248,255)\" height=\"580\" style=\"filter:url(#filter_blur)\" width=\"416\" x=\"520\" y=\"30\"/>\n",
       "  <rect fill=\"rgb(0,0,0)\" height=\"160\" stroke=\"rgb(0,0,0)\" style=\"filter:url(#filter_blur);opacity:0.7;fill-opacity:1\" width=\"400\" x=\"67\" y=\"46\"/>\n",
       "  <rect fill=\"rgb(0,0,0)\" height=\"160\" stroke=\"rgb(0,0,0)\" style=\"filter:url(#filter_blur);opacity:0.7;fill-opacity:1\" width=\"400\" x=\"531\" y=\"46\"/>\n",
       "  <rect fill=\"rgb(0,0,0)\" height=\"160\" stroke=\"rgb(0,0,0)\" style=\"filter:url(#filter_blur);opacity:0.7;fill-opacity:1\" width=\"400\" x=\"531\" y=\"246\"/>\n",
       "  <rect fill=\"rgb(0,0,0)\" height=\"160\" stroke=\"rgb(0,0,0)\" style=\"filter:url(#filter_blur);opacity:0.7;fill-opacity:1\" width=\"400\" x=\"531\" y=\"446\"/>\n",
       "  <rect fill=\"rgb(255,255,255)\" height=\"160\" stroke=\"rgb(0,0,0)\" width=\"400\" x=\"64\" y=\"40\"/>\n",
       "  <text fill=\"rgb(0,0,0)\" font-family=\"sans-serif\" font-size=\"11\" font-style=\"normal\" font-weight=\"normal\" text-anchor=\"middle\" textLength=\"88\" x=\"264\" y=\"125\">evaluation-tracer</text>\n",
       "  <rect fill=\"rgb(255,255,255)\" height=\"160\" stroke=\"rgb(0,0,0)\" width=\"400\" x=\"528\" y=\"40\"/>\n",
       "  <text fill=\"rgb(0,0,0)\" font-family=\"sans-serif\" font-size=\"11\" font-style=\"normal\" font-weight=\"normal\" text-anchor=\"middle\" textLength=\"52\" x=\"728\" y=\"125\">recreators</text>\n",
       "  <rect fill=\"rgb(255,255,255)\" height=\"160\" stroke=\"rgb(0,0,0)\" width=\"400\" x=\"528\" y=\"240\"/>\n",
       "  <text fill=\"rgb(0,0,0)\" font-family=\"sans-serif\" font-size=\"11\" font-style=\"normal\" font-weight=\"normal\" text-anchor=\"middle\" textLength=\"56\" x=\"728\" y=\"326\">newgame1</text>\n",
       "  <rect fill=\"rgb(255,255,255)\" height=\"160\" stroke=\"rgb(0,0,0)\" width=\"400\" x=\"528\" y=\"440\"/>\n",
       "  <text fill=\"rgb(0,0,0)\" font-family=\"sans-serif\" font-size=\"11\" font-style=\"normal\" font-weight=\"normal\" text-anchor=\"middle\" textLength=\"56\" x=\"728\" y=\"526\">newgame2</text>\n",
       "  <path d=\"M 464 120 L 496 120\" fill=\"none\" stroke=\"rgb(0,0,0)\"/>\n",
       "  <path d=\"M 496 120 L 496 320\" fill=\"none\" stroke=\"rgb(0,0,0)\"/>\n",
       "  <path d=\"M 496 320 L 520 320\" fill=\"none\" stroke=\"rgb(0,0,0)\"/>\n",
       "  <polygon fill=\"rgb(0,0,0)\" points=\"527,320 520,316 520,324 527,320\" stroke=\"rgb(0,0,0)\"/>\n",
       "  <path d=\"M 464 120 L 520 120\" fill=\"none\" stroke=\"rgb(0,0,0)\"/>\n",
       "  <polygon fill=\"rgb(0,0,0)\" points=\"527,120 520,116 520,124 527,120\" stroke=\"rgb(0,0,0)\"/>\n",
       "  <path d=\"M 464 120 L 496 120\" fill=\"none\" stroke=\"rgb(0,0,0)\"/>\n",
       "  <path d=\"M 496 120 L 496 520\" fill=\"none\" stroke=\"rgb(0,0,0)\"/>\n",
       "  <path d=\"M 496 520 L 520 520\" fill=\"none\" stroke=\"rgb(0,0,0)\"/>\n",
       "  <polygon fill=\"rgb(0,0,0)\" points=\"527,520 520,516 520,524 527,520\" stroke=\"rgb(0,0,0)\"/>\n",
       "  <text fill=\"rgb(0,0,0)\" font-family=\"sans-serif\" font-size=\"11\" font-style=\"normal\" font-weight=\"normal\" text-anchor=\"middle\" textLength=\"22\" x=\"264\" y=\"36\">構築</text>\n",
       "  <text fill=\"rgb(0,0,0)\" font-family=\"sans-serif\" font-size=\"11\" font-style=\"normal\" font-weight=\"normal\" text-anchor=\"middle\" textLength=\"22\" x=\"728\" y=\"36\">分析</text>\n",
       "</svg>"
      ],
      "text/plain": [
       "<IPython.core.display.SVG object>"
      ]
     },
     "execution_count": 32,
     "metadata": {},
     "output_type": "execute_result"
    }
   ],
   "source": [
    "import os\n",
    "from IPython.display import SVG\n",
    "\n",
    "!blockdiag -f /usr/share/fonts/truetype/fonts-japanese-gothic.ttf -Tsvg \\\n",
    "           -o {work_dir}/notebooks.svg {work_dir}/notebooks.diag\n",
    "SVG(filename=os.path.join(work_dir, 'notebooks.svg'))"
   ]
  },
  {
   "cell_type": "markdown",
   "metadata": {
    "lc_cell_meme": {
     "current": "855aa7d0-13c4-11e7-b31a-0242ac12000d",
     "history": [
      {
       "current": "855aa7d0-13c4-11e7-b31a-0242ac12000d",
       "next": "f64e550a-13c3-11e7-b31a-0242ac12000d",
       "previous": "f64e5334-13c3-11e7-b31a-0242ac12000d"
      },
      {
       "current": "855aa7d0-13c4-11e7-b31a-0242ac12000d",
       "next": "a4bb6fc2-4a7b-11e7-b37f-02420aff0006",
       "previous": "f64e5334-13c3-11e7-b31a-0242ac12000d"
      }
     ],
     "next": "ec3bef98-4a7b-11e7-b37f-02420aff0006",
     "previous": "f64e5334-13c3-11e7-b31a-0242ac12000d"
    }
   },
   "source": [
    "## 詳細情報の埋め込み\n",
    "\n",
    "生成した雛形に対して、見出しの情報など詳細な情報を埋め込みます。\n",
    "\n",
    "この手順により、人手での図編集作業を最低限にとどめつつ、Notebookのわかりやすい利用フロー図を生成できるようにしています。"
   ]
  },
  {
   "cell_type": "code",
   "execution_count": 33,
   "metadata": {
    "collapsed": true,
    "deletable": false,
    "editable": false,
    "lc_cell_meme": {
     "current": "ec3bef98-4a7b-11e7-b37f-02420aff0006",
     "next": "f64e550a-13c3-11e7-b31a-0242ac12000d",
     "previous": "855aa7d0-13c4-11e7-b31a-0242ac12000d"
    },
    "run_control": {
     "frozen": true
    },
    "run_through_control": {
     "frozen": true
    }
   },
   "outputs": [],
   "source": [
    "disabled = {}"
   ]
  },
  {
   "cell_type": "code",
   "execution_count": 38,
   "metadata": {
    "deletable": false,
    "editable": false,
    "lc_cell_meme": {
     "current": "f64e550a-13c3-11e7-b31a-0242ac12000d",
     "history": [
      {
       "current": "f64e550a-13c3-11e7-b31a-0242ac12000d",
       "next": "f64e56d6-13c3-11e7-b31a-0242ac12000d",
       "previous": "f64e5334-13c3-11e7-b31a-0242ac12000d"
      },
      {
       "current": "f64e550a-13c3-11e7-b31a-0242ac12000d",
       "next": "f64e56d6-13c3-11e7-b31a-0242ac12000d",
       "previous": "855aa7d0-13c4-11e7-b31a-0242ac12000d"
      },
      {
       "current": "f64e550a-13c3-11e7-b31a-0242ac12000d",
       "next": "ccdd077e-13c4-11e7-b31a-0242ac12000d",
       "previous": "855aa7d0-13c4-11e7-b31a-0242ac12000d"
      },
      {
       "current": "f64e550a-13c3-11e7-b31a-0242ac12000d",
       "next": "f64e5c30-13c3-11e7-b31a-0242ac12000d",
       "previous": "855aa7d0-13c4-11e7-b31a-0242ac12000d"
      },
      {
       "current": "f64e550a-13c3-11e7-b31a-0242ac12000d",
       "next": "f64e5e10-13c3-11e7-b31a-0242ac12000d",
       "previous": "855aa7d0-13c4-11e7-b31a-0242ac12000d"
      },
      {
       "current": "f64e550a-13c3-11e7-b31a-0242ac12000d",
       "next": "0d37e028-1fd2-11e7-b31a-0242ac12000d",
       "previous": "855aa7d0-13c4-11e7-b31a-0242ac12000d"
      },
      {
       "current": "f64e550a-13c3-11e7-b31a-0242ac12000d",
       "next": "0d37e028-1fd2-11e7-b31a-0242ac12000d",
       "previous": "a4bb6fc2-4a7b-11e7-b37f-02420aff0006"
      }
     ],
     "next": "0d37e028-1fd2-11e7-b31a-0242ac12000d",
     "previous": "ec3bef98-4a7b-11e7-b37f-02420aff0006"
    },
    "run_control": {
     "frozen": true
    },
    "run_through_control": {
     "frozen": true
    },
    "scrolled": false
   },
   "outputs": [
    {
     "data": {
      "image/svg+xml": [
       "<svg viewBox=\"0 0 992 640\" xmlns=\"http://www.w3.org/2000/svg\" xmlns:inkspace=\"http://www.inkscape.org/namespaces/inkscape\" xmlns:xlink=\"http://www.w3.org/1999/xlink\">\n",
       "  <defs id=\"defs_block\">\n",
       "    <filter height=\"1.504\" id=\"filter_blur\" inkspace:collect=\"always\" width=\"1.1575\" x=\"-0.07875\" y=\"-0.252\">\n",
       "      <feGaussianBlur id=\"feGaussianBlur3780\" inkspace:collect=\"always\" stdDeviation=\"4.2\"/>\n",
       "    </filter>\n",
       "  </defs>\n",
       "  <title>blockdiag</title>\n",
       "  <desc>blockdiag {\n",
       "    node_width = 400;\n",
       "    node_height = 160;\n",
       "    \n",
       "    evaluation-tracer -&gt; recreators\n",
       "    evaluation-tracer -&gt; newgame1\n",
       "    evaluation-tracer -&gt; newgame2\n",
       "    \n",
       "    group build {\n",
       "        label = &quot;構築&quot;\n",
       "        color = &quot;#f0f8ff&quot;;\n",
       "\n",
       "        evaluation-tracer\n",
       "    }\n",
       "    group use {\n",
       "        label=&quot;分析&quot;;\n",
       "        color = &quot;#f0f8ff&quot;;\n",
       "        \n",
       "        recreators\n",
       "        newgame1\n",
       "        newgame2\n",
       "    }\n",
       "}</desc>\n",
       "  <rect fill=\"rgb(240,248,255)\" height=\"180\" style=\"filter:url(#filter_blur)\" width=\"416\" x=\"56\" y=\"30\"/>\n",
       "  <rect fill=\"rgb(240,248,255)\" height=\"580\" style=\"filter:url(#filter_blur)\" width=\"416\" x=\"520\" y=\"30\"/>\n",
       "  <rect fill=\"rgb(0,0,0)\" height=\"160\" stroke=\"rgb(0,0,0)\" style=\"filter:url(#filter_blur);opacity:0.7;fill-opacity:1\" width=\"400\" x=\"67\" y=\"46\"/>\n",
       "  <rect fill=\"rgb(0,0,0)\" height=\"160\" stroke=\"rgb(0,0,0)\" style=\"filter:url(#filter_blur);opacity:0.7;fill-opacity:1\" width=\"400\" x=\"531\" y=\"46\"/>\n",
       "  <rect fill=\"rgb(0,0,0)\" height=\"160\" stroke=\"rgb(0,0,0)\" style=\"filter:url(#filter_blur);opacity:0.7;fill-opacity:1\" width=\"400\" x=\"531\" y=\"246\"/>\n",
       "  <rect fill=\"rgb(0,0,0)\" height=\"160\" stroke=\"rgb(0,0,0)\" style=\"filter:url(#filter_blur);opacity:0.7;fill-opacity:1\" width=\"400\" x=\"531\" y=\"446\"/>\n",
       "  <rect fill=\"rgb(255,255,255)\" height=\"160\" stroke=\"rgb(0,0,0)\" width=\"400\" x=\"64\" y=\"40\"/>\n",
       "  <text fill=\"rgb(0,0,0)\" font-anchor=\"middle\" font-family=\"sans-serif\" font-size=\"9\" font-style=\"normal\" font-weight=\"normal\" width=\"396\" x=\"66\" y=\"142\">- Evaluation Tracer ができあがったら</text><text fill=\"rgb(0,0,0)\" font-anchor=\"middle\" font-family=\"sans-serif\" font-size=\"9\" font-style=\"normal\" font-weight=\"normal\" width=\"396\" x=\"66\" y=\"131\">- Superset の Evaluation Tracere 化</text><text fill=\"rgb(0,0,0)\" font-anchor=\"middle\" font-family=\"sans-serif\" font-size=\"9\" font-style=\"normal\" font-weight=\"normal\" width=\"396\" x=\"66\" y=\"120\">- Supersetの初期化</text><text fill=\"rgb(0,0,0)\" font-anchor=\"middle\" font-family=\"sans-serif\" font-size=\"9\" font-style=\"normal\" font-weight=\"normal\" width=\"396\" x=\"66\" y=\"109\">- Jupyter環境の準備</text><text fill=\"rgb(0,0,0)\" font-anchor=\"middle\" font-family=\"sans-serif\" font-size=\"9\" font-style=\"italic\" font-weight=\"normal\" width=\"396\" x=\"66\" y=\"85\">EvaluationTracerを構築し、データを取得・分析する準備を行います。</text><a xlink:href=\"evaluation-tracer.ipynb\"><text fill=\"rgb(0,0,0)\" font-anchor=\"middle\" font-family=\"sans-serif\" font-size=\"11\" font-style=\"normal\" font-weight=\"bold\" width=\"396\" x=\"66\" y=\"62\">Evaluation Tracer の構築</text></a><rect fill=\"rgb(255,255,255)\" height=\"160\" stroke=\"rgb(0,0,0)\" width=\"400\" x=\"528\" y=\"40\"/>\n",
       "  <text fill=\"rgb(0,0,0)\" font-anchor=\"middle\" font-family=\"sans-serif\" font-size=\"9\" font-style=\"normal\" font-weight=\"normal\" width=\"396\" x=\"530\" y=\"120\">- ダッシュボードの作成</text><text fill=\"rgb(0,0,0)\" font-anchor=\"middle\" font-family=\"sans-serif\" font-size=\"9\" font-style=\"normal\" font-weight=\"normal\" width=\"396\" x=\"530\" y=\"109\">- データの取得</text><text fill=\"rgb(0,0,0)\" font-anchor=\"middle\" font-family=\"sans-serif\" font-size=\"9\" font-style=\"italic\" font-weight=\"normal\" width=\"396\" x=\"530\" y=\"85\">放送期間中の各キャラクタの承認力の獲得量の推移をグラフ化します。</text><a xlink:href=\"recreators.ipynb\"><text fill=\"rgb(0,0,0)\" font-anchor=\"middle\" font-family=\"sans-serif\" font-size=\"11\" font-style=\"normal\" font-weight=\"bold\" width=\"396\" x=\"530\" y=\"62\">Re:CREATORS</text></a><rect fill=\"rgb(255,255,255)\" height=\"160\" stroke=\"rgb(0,0,0)\" width=\"400\" x=\"528\" y=\"240\"/>\n",
       "  <text fill=\"rgb(0,0,0)\" font-anchor=\"middle\" font-family=\"sans-serif\" font-size=\"9\" font-style=\"normal\" font-weight=\"normal\" width=\"396\" x=\"530\" y=\"320\">- ダッシュボードの作成</text><text fill=\"rgb(0,0,0)\" font-anchor=\"middle\" font-family=\"sans-serif\" font-size=\"9\" font-style=\"normal\" font-weight=\"normal\" width=\"396\" x=\"530\" y=\"309\">- データの取得</text><text fill=\"rgb(0,0,0)\" font-anchor=\"middle\" font-family=\"sans-serif\" font-size=\"9\" font-style=\"italic\" font-weight=\"normal\" width=\"396\" x=\"530\" y=\"285\">NewGame第1期の放送期間中の各キャラクタの承認力の獲得量の推移をグラフ化します。</text><a xlink:href=\"newgame1.ipynb\"><text fill=\"rgb(0,0,0)\" font-anchor=\"middle\" font-family=\"sans-serif\" font-size=\"11\" font-style=\"normal\" font-weight=\"bold\" width=\"396\" x=\"530\" y=\"262\">NewGame!</text></a><rect fill=\"rgb(255,255,255)\" height=\"160\" stroke=\"rgb(0,0,0)\" width=\"400\" x=\"528\" y=\"440\"/>\n",
       "  <text fill=\"rgb(0,0,0)\" font-anchor=\"middle\" font-family=\"sans-serif\" font-size=\"9\" font-style=\"normal\" font-weight=\"normal\" width=\"396\" x=\"530\" y=\"520\">- ダッシュボードの作成</text><text fill=\"rgb(0,0,0)\" font-anchor=\"middle\" font-family=\"sans-serif\" font-size=\"9\" font-style=\"normal\" font-weight=\"normal\" width=\"396\" x=\"530\" y=\"509\">- データの取得</text><text fill=\"rgb(0,0,0)\" font-anchor=\"middle\" font-family=\"sans-serif\" font-size=\"9\" font-style=\"italic\" font-weight=\"normal\" width=\"396\" x=\"530\" y=\"485\">NewGame第2期の放送期間中の各キャラクタの承認力の獲得量の推移をグラフ化します。</text><a xlink:href=\"newgame2.ipynb\"><text fill=\"rgb(0,0,0)\" font-anchor=\"middle\" font-family=\"sans-serif\" font-size=\"11\" font-style=\"normal\" font-weight=\"bold\" width=\"396\" x=\"530\" y=\"462\">NewGame!!</text></a><path d=\"M 464 120 L 496 120\" fill=\"none\" stroke=\"rgb(0,0,0)\"/>\n",
       "  <path d=\"M 496 120 L 496 320\" fill=\"none\" stroke=\"rgb(0,0,0)\"/>\n",
       "  <path d=\"M 496 320 L 520 320\" fill=\"none\" stroke=\"rgb(0,0,0)\"/>\n",
       "  <polygon fill=\"rgb(0,0,0)\" points=\"527,320 520,316 520,324 527,320\" stroke=\"rgb(0,0,0)\"/>\n",
       "  <path d=\"M 464 120 L 520 120\" fill=\"none\" stroke=\"rgb(0,0,0)\"/>\n",
       "  <polygon fill=\"rgb(0,0,0)\" points=\"527,120 520,116 520,124 527,120\" stroke=\"rgb(0,0,0)\"/>\n",
       "  <path d=\"M 464 120 L 496 120\" fill=\"none\" stroke=\"rgb(0,0,0)\"/>\n",
       "  <path d=\"M 496 120 L 496 520\" fill=\"none\" stroke=\"rgb(0,0,0)\"/>\n",
       "  <path d=\"M 496 520 L 520 520\" fill=\"none\" stroke=\"rgb(0,0,0)\"/>\n",
       "  <polygon fill=\"rgb(0,0,0)\" points=\"527,520 520,516 520,524 527,520\" stroke=\"rgb(0,0,0)\"/>\n",
       "  <text fill=\"rgb(0,0,0)\" font-family=\"sans-serif\" font-size=\"11\" font-style=\"normal\" font-weight=\"normal\" text-anchor=\"middle\" textLength=\"22\" x=\"264\" y=\"36\">構築</text>\n",
       "  <text fill=\"rgb(0,0,0)\" font-family=\"sans-serif\" font-size=\"11\" font-style=\"normal\" font-weight=\"normal\" text-anchor=\"middle\" textLength=\"22\" x=\"728\" y=\"36\">分析</text>\n",
       "</svg>"
      ],
      "text/plain": [
       "<IPython.core.display.SVG object>"
      ]
     },
     "execution_count": 38,
     "metadata": {},
     "output_type": "execute_result"
    }
   ],
   "source": [
    "import re\n",
    "from lxml import etree\n",
    "%run generate-diagram.py\n",
    "\n",
    "# Notebookの一覧列挙\n",
    "ref_notebooks = filter(lambda m: m, map(lambda n: re.match(r'(evaluation-tracer|recreators|newgame1|newgame2)\\.ipynb', n), os.listdir('.')))\n",
    "ref_notebooks = sorted(ref_notebooks, key=lambda m: m.group(1))\n",
    "notebook_headers = [(m.group(1), parse_headers(m.group(0))) for m in ref_notebooks]\n",
    "\n",
    "# 雛形の読み込み\n",
    "tree = etree.parse(os.path.join(work_dir, 'notebooks.svg'))\n",
    "        \n",
    "# 雛形をNotebook情報で置き換え\n",
    "for elem in list(tree.findall('{http://www.w3.org/2000/svg}text')):\n",
    "    if elem.getprevious() is not None and elem.getprevious().tag == '{http://www.w3.org/2000/svg}rect' \\\n",
    "       and len(elem.text) > 0:\n",
    "        target_headers = [(name, h) for name, h in notebook_headers if name.startswith(elem.text)]\n",
    "        rect_elem = elem.getprevious()\n",
    "        if len(target_headers) > 0:\n",
    "            rect = ((int(rect_elem.attrib['x']), int(rect_elem.attrib['y'])), (int(rect_elem.attrib['width']),\n",
    "                                                                               int(rect_elem.attrib['height'])))\n",
    "        \n",
    "            childpos = elem.getparent().index(elem)\n",
    "            parent_elem = elem.getparent()\n",
    "            remove_texts(elem)\n",
    "            insert_title(parent_elem, childpos, rect, target_headers[0][1][0][0], target_headers[0][0] + '.ipynb')            \n",
    "            insert_summary(parent_elem, childpos, rect, target_headers[0][1][0][1])\n",
    "            insert_headers(parent_elem, childpos, rect, target_headers[0][1][1:])\n",
    "        elif elem.text in disabled:\n",
    "            rect_elem.attrib['fill'] = 'rgb(192, 192, 192)'\n",
    "            rect = ((int(rect_elem.attrib['x']), int(rect_elem.attrib['y'])), (int(rect_elem.attrib['width']),\n",
    "                                                                               int(rect_elem.attrib['height'])))\n",
    "        \n",
    "            childpos = elem.getparent().index(elem)\n",
    "            parent_elem = elem.getparent()\n",
    "            remove_texts(elem)\n",
    "            insert_title(parent_elem, childpos, rect, disabled[elem.text][0])\n",
    "            insert_summary(parent_elem, childpos, rect, u'本デモ環境では利用できません')\n",
    "            insert_headers(parent_elem, childpos, rect, disabled[elem.text][1])\n",
    "        else:\n",
    "            print(elem.text)\n",
    "\n",
    "# SVGの保存・表示\n",
    "with open('notebooks-filled.svg', 'w') as f:\n",
    "    f.write(etree.tostring(tree, method='xml', pretty_print=True))\n",
    "\n",
    "SVG(filename='notebooks-filled.svg')"
   ]
  },
  {
   "cell_type": "markdown",
   "metadata": {
    "lc_cell_meme": {
     "current": "0d37e028-1fd2-11e7-b31a-0242ac12000d",
     "next": "f11e7dfc-13c4-11e7-b31a-0242ac12000d",
     "previous": "f64e550a-13c3-11e7-b31a-0242ac12000d"
    }
   },
   "source": [
    "# 後始末\n",
    "\n",
    "一時ファイルを削除します。"
   ]
  },
  {
   "cell_type": "code",
   "execution_count": 8,
   "metadata": {
    "collapsed": true,
    "lc_cell_meme": {
     "current": "f11e7dfc-13c4-11e7-b31a-0242ac12000d",
     "history": [
      {
       "current": "f11e7dfc-13c4-11e7-b31a-0242ac12000d",
       "next": null,
       "previous": "f64e6540-13c3-11e7-b31a-0242ac12000d"
      }
     ],
     "next": "0d37e3f2-1fd2-11e7-b31a-0242ac12000d",
     "previous": "0d37e028-1fd2-11e7-b31a-0242ac12000d"
    },
    "run_control": {
     "frozen": true
    }
   },
   "outputs": [],
   "source": [
    "!rm -fr {work_dir}"
   ]
  },
  {
   "cell_type": "code",
   "execution_count": null,
   "metadata": {
    "collapsed": true,
    "lc_cell_meme": {
     "current": "0d37e3f2-1fd2-11e7-b31a-0242ac12000d",
     "next": null,
     "previous": "f11e7dfc-13c4-11e7-b31a-0242ac12000d"
    },
    "run_control": {
     "frozen": true
    }
   },
   "outputs": [],
   "source": []
  }
 ],
 "metadata": {
  "anaconda-cloud": {},
  "kernelspec": {
   "display_name": "Python 2 (LC_wrapper)",
   "language": "python",
   "name": "python2-wrapper"
  },
  "language_info": {
   "file_extension": ".py",
   "mimetype": "text/x-python",
   "name": "python",
   "nbconvert_exporter": "python",
   "pygments_lexer": "ipython2",
   "version": "2.7.9"
  },
  "lc_notebook_meme": {
   "current": "f64e4038-13c3-11e7-b31a-0242ac12000d",
   "lc_server_signature": {
    "current": {
     "notebook_dir": "/notebooks",
     "notebook_path": "/evaluation-tracer",
     "server_url": "http://pwd10-0-9-3-8888.host4.labs.play-with-docker.com/",
     "signature_id": "6a48c2b2-a715-11e7-870a-02420aff0006"
    },
    "history": []
   }
  },
  "toc": {
   "nav_menu": {
    "height": "191px",
    "width": "252px"
   },
   "number_sections": true,
   "sideBar": true,
   "skip_h1_title": false,
   "toc_cell": false,
   "toc_position": {
    "height": "823px",
    "left": "0px",
    "right": "1455px",
    "top": "106px",
    "width": "212px"
   },
   "toc_section_display": "block",
   "toc_window_display": true
  }
 },
 "nbformat": 4,
 "nbformat_minor": 1
}
