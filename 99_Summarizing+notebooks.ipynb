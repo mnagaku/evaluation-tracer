{
 "cells": [
  {
   "cell_type": "markdown",
   "metadata": {
    "collapsed": true,
    "lc_cell_meme": {
     "current": "f64e43ee-13c3-11e7-b31a-0242ac12000d",
     "history": [
      {
       "current": "f64e43ee-13c3-11e7-b31a-0242ac12000d",
       "next": "f64e4628-13c3-11e7-b31a-0242ac12000d",
       "previous": null
      }
     ],
     "next": "771e4f2e-1fd0-11e7-b31a-0242ac12000d",
     "previous": null
    },
    "nbpresent": {
     "id": "40314b59-e8b3-4aad-a218-07584ba2b71d"
    }
   },
   "source": [
    "# About: Notebookの利用フローまとめ\n",
    "\n",
    "----\n",
    "\n",
    "Notebookの利用フローを図としてまとめる例です。"
   ]
  },
  {
   "cell_type": "markdown",
   "metadata": {
    "heading_collapsed": true,
    "lc_cell_meme": {
     "current": "771e4f2e-1fd0-11e7-b31a-0242ac12000d",
     "history": [
      {
       "current": "771e4f2e-1fd0-11e7-b31a-0242ac12000d",
       "next": "f64e4628-13c3-11e7-b31a-0242ac12000d",
       "previous": "f64e43ee-13c3-11e7-b31a-0242ac12000d"
      },
      {
       "current": "771e4f2e-1fd0-11e7-b31a-0242ac12000d",
       "next": "bea97c06-1fd0-11e7-b31a-0242ac12000d",
       "previous": "f64e43ee-13c3-11e7-b31a-0242ac12000d"
      }
     ],
     "next": "0630e4d8-1fd1-11e7-b31a-0242ac12000d",
     "previous": "f64e43ee-13c3-11e7-b31a-0242ac12000d"
    }
   },
   "source": [
    "# 必要なツール\n",
    "\n",
    "このNotebookの実行には[blockdiag](http://blockdiag.com/ja/blockdiag/)が必要です。"
   ]
  },
  {
   "cell_type": "code",
   "execution_count": null,
   "metadata": {
    "hidden": true,
    "lc_cell_meme": {
     "current": "0630e4d8-1fd1-11e7-b31a-0242ac12000d",
     "next": "0630e942-1fd1-11e7-b31a-0242ac12000d",
     "previous": "771e4f2e-1fd0-11e7-b31a-0242ac12000d"
    },
    "run_control": {
     "frozen": true
    }
   },
   "outputs": [],
   "source": [
    "!which blockdiag"
   ]
  },
  {
   "cell_type": "markdown",
   "metadata": {
    "hidden": true,
    "lc_cell_meme": {
     "current": "0630e942-1fd1-11e7-b31a-0242ac12000d",
     "next": "bea97c06-1fd0-11e7-b31a-0242ac12000d",
     "previous": "0630e4d8-1fd1-11e7-b31a-0242ac12000d"
    }
   },
   "source": [
    "このNotebook環境にblockdiagコマンドがインストールされていない場合は、以下のようにしてblockdiagパッケージをインストールします。\n",
    "(pipコマンドの場所は環境により異なります。)\n",
    "\n",
    "lxmlも必要なので入れておきます。"
   ]
  },
  {
   "cell_type": "code",
   "execution_count": null,
   "metadata": {
    "hidden": true,
    "lc_cell_meme": {
     "current": "bea97c06-1fd0-11e7-b31a-0242ac12000d",
     "history": [
      {
       "current": "bea97c06-1fd0-11e7-b31a-0242ac12000d",
       "next": "f64e4628-13c3-11e7-b31a-0242ac12000d",
       "previous": "771e4f2e-1fd0-11e7-b31a-0242ac12000d"
      },
      {
       "current": "bea97c06-1fd0-11e7-b31a-0242ac12000d",
       "next": "f64e4bfa-13c3-11e7-b31a-0242ac12000d",
       "previous": "0630e942-1fd1-11e7-b31a-0242ac12000d"
      }
     ],
     "next": "79dae028-a717-11e7-870a-02420aff0006",
     "previous": "0630e942-1fd1-11e7-b31a-0242ac12000d"
    },
    "run_control": {
     "frozen": true
    }
   },
   "outputs": [],
   "source": [
    "!sudo pip2 install blockdiag lxml"
   ]
  },
  {
   "cell_type": "markdown",
   "metadata": {
    "hidden": true,
    "lc_cell_meme": {
     "current": "79dae028-a717-11e7-870a-02420aff0006",
     "next": "79dae51e-a717-11e7-870a-02420aff0006",
     "previous": "bea97c06-1fd0-11e7-b31a-0242ac12000d"
    }
   },
   "source": [
    "fonts-japanese-gothic.ttfも入れておく"
   ]
  },
  {
   "cell_type": "code",
   "execution_count": null,
   "metadata": {
    "hidden": true,
    "lc_cell_meme": {
     "current": "79dae51e-a717-11e7-870a-02420aff0006",
     "next": "f64e4bfa-13c3-11e7-b31a-0242ac12000d",
     "previous": "79dae028-a717-11e7-870a-02420aff0006"
    }
   },
   "outputs": [],
   "source": [
    "!sudo apt-get update && sudo apt-get upgrade -y\n",
    "!sudo apt-get install -y fonts-ipaexfont-gothic"
   ]
  },
  {
   "cell_type": "markdown",
   "metadata": {
    "collapsed": true,
    "heading_collapsed": true,
    "lc_cell_meme": {
     "current": "f64e4bfa-13c3-11e7-b31a-0242ac12000d",
     "history": [
      {
       "current": "f64e4bfa-13c3-11e7-b31a-0242ac12000d",
       "next": "f64e4dd0-13c3-11e7-b31a-0242ac12000d",
       "previous": "f64e4a1a-13c3-11e7-b31a-0242ac12000d"
      },
      {
       "current": "f64e4bfa-13c3-11e7-b31a-0242ac12000d",
       "next": "3dd51a6c-13c4-11e7-b31a-0242ac12000d",
       "previous": "f64e4a1a-13c3-11e7-b31a-0242ac12000d"
      },
      {
       "current": "f64e4bfa-13c3-11e7-b31a-0242ac12000d",
       "next": "3dd51a6c-13c4-11e7-b31a-0242ac12000d",
       "previous": "250a00b2-13f9-11e7-b31a-0242ac12000d"
      },
      {
       "current": "f64e4bfa-13c3-11e7-b31a-0242ac12000d",
       "next": "3dd51a6c-13c4-11e7-b31a-0242ac12000d",
       "previous": "f64e5c30-13c3-11e7-b31a-0242ac12000d"
      },
      {
       "current": "f64e4bfa-13c3-11e7-b31a-0242ac12000d",
       "next": "f64e4dd0-13c3-11e7-b31a-0242ac12000d",
       "previous": "bea97c06-1fd0-11e7-b31a-0242ac12000d"
      },
      {
       "current": "f64e4bfa-13c3-11e7-b31a-0242ac12000d",
       "next": "4db6179c-1fd1-11e7-b31a-0242ac12000d",
       "previous": "bea97c06-1fd0-11e7-b31a-0242ac12000d"
      }
     ],
     "next": "4db6179c-1fd1-11e7-b31a-0242ac12000d",
     "previous": "79dae51e-a717-11e7-870a-02420aff0006"
    },
    "nbpresent": {
     "id": "254432a4-e8fc-4d50-ac21-04a62e34643a"
    }
   },
   "source": [
    "# ブロック図による一覧生成\n",
    "\n",
    "以下のセルを実行(`Run All Below`)することで、Notebookがそれぞれどのような局面での利用を想定しているのか、ブロック図で確認することができます。\n",
    "\n",
    "ブロック図は `images/notebooks-filled.svg` として保存し、他のNotebookから必要に応じて参照することとします。"
   ]
  },
  {
   "cell_type": "markdown",
   "metadata": {
    "hidden": true,
    "lc_cell_meme": {
     "current": "4db6179c-1fd1-11e7-b31a-0242ac12000d",
     "next": "f64e4dd0-13c3-11e7-b31a-0242ac12000d",
     "previous": "f64e4bfa-13c3-11e7-b31a-0242ac12000d"
    }
   },
   "source": [
    "一時ファイルは以下のディレクトリに作成します。"
   ]
  },
  {
   "cell_type": "code",
   "execution_count": null,
   "metadata": {
    "hidden": true,
    "lc_cell_meme": {
     "current": "f64e4dd0-13c3-11e7-b31a-0242ac12000d",
     "history": [
      {
       "current": "f64e4dd0-13c3-11e7-b31a-0242ac12000d",
       "next": "f64e4f9c-13c3-11e7-b31a-0242ac12000d",
       "previous": "f64e4bfa-13c3-11e7-b31a-0242ac12000d"
      },
      {
       "current": "f64e4dd0-13c3-11e7-b31a-0242ac12000d",
       "next": "f64e4f9c-13c3-11e7-b31a-0242ac12000d",
       "previous": "3dd51a6c-13c4-11e7-b31a-0242ac12000d"
      },
      {
       "current": "f64e4dd0-13c3-11e7-b31a-0242ac12000d",
       "next": "f64e4f9c-13c3-11e7-b31a-0242ac12000d",
       "previous": "f64e4bfa-13c3-11e7-b31a-0242ac12000d"
      }
     ],
     "next": "4db61d64-1fd1-11e7-b31a-0242ac12000d",
     "previous": "4db6179c-1fd1-11e7-b31a-0242ac12000d"
    },
    "run_control": {
     "frozen": true
    }
   },
   "outputs": [],
   "source": [
    "import tempfile\n",
    "work_dir = tempfile.mkdtemp()\n",
    "work_dir"
   ]
  },
  {
   "cell_type": "markdown",
   "metadata": {
    "hidden": true,
    "lc_cell_meme": {
     "current": "4db61d64-1fd1-11e7-b31a-0242ac12000d",
     "next": "f64e4f9c-13c3-11e7-b31a-0242ac12000d",
     "previous": "f64e4dd0-13c3-11e7-b31a-0242ac12000d"
    }
   },
   "source": [
    "## 雛形の生成\n",
    "\n",
    "まず、Notebookの利用フローを表したブロック図の雛形を作成します。\n",
    "\n",
    "今回は雛形作成は人手により行っています。各ブロックには、Notebook名の先頭文字列を与えるものとします。"
   ]
  },
  {
   "cell_type": "code",
   "execution_count": null,
   "metadata": {
    "hidden": true,
    "lc_cell_meme": {
     "current": "f64e4f9c-13c3-11e7-b31a-0242ac12000d",
     "history": [
      {
       "current": "f64e4f9c-13c3-11e7-b31a-0242ac12000d",
       "next": "f64e5168-13c3-11e7-b31a-0242ac12000d",
       "previous": "f64e4dd0-13c3-11e7-b31a-0242ac12000d"
      },
      {
       "current": "f64e4f9c-13c3-11e7-b31a-0242ac12000d",
       "next": "f64e5168-13c3-11e7-b31a-0242ac12000d",
       "previous": "4db61d64-1fd1-11e7-b31a-0242ac12000d"
      }
     ],
     "next": "855aa226-13c4-11e7-b31a-0242ac12000d",
     "previous": "4db61d64-1fd1-11e7-b31a-0242ac12000d"
    },
    "run_control": {
     "frozen": true
    }
   },
   "outputs": [],
   "source": [
    "%%writefile {work_dir}/notebooks.diag\n",
    "blockdiag {\n",
    "    node_width = 400;\n",
    "    node_height = 160;\n",
    "    \n",
    "    evaluation-tracer -> recreators\n",
    "    evaluation-tracer -> newgame1\n",
    "    evaluation-tracer -> newgame2\n",
    "    \n",
    "    group build {\n",
    "        label = \"構築\"\n",
    "        color = \"#f0f8ff\";\n",
    "\n",
    "        evaluation-tracer\n",
    "    }\n",
    "    group use {\n",
    "        label=\"分析\";\n",
    "        color = \"#f0f8ff\";\n",
    "        \n",
    "        recreators\n",
    "        newgame1\n",
    "        newgame2\n",
    "    }\n",
    "}"
   ]
  },
  {
   "cell_type": "markdown",
   "metadata": {
    "hidden": true,
    "lc_cell_meme": {
     "current": "855aa226-13c4-11e7-b31a-0242ac12000d",
     "history": [
      {
       "current": "855aa226-13c4-11e7-b31a-0242ac12000d",
       "next": "f64e5334-13c3-11e7-b31a-0242ac12000d",
       "previous": "f64e5168-13c3-11e7-b31a-0242ac12000d"
      }
     ],
     "next": "f64e5334-13c3-11e7-b31a-0242ac12000d",
     "previous": "f64e4f9c-13c3-11e7-b31a-0242ac12000d"
    }
   },
   "source": [
    "雛形を作成します。以下のような表示となります。"
   ]
  },
  {
   "cell_type": "code",
   "execution_count": null,
   "metadata": {
    "hidden": true,
    "lc_cell_meme": {
     "current": "f64e5334-13c3-11e7-b31a-0242ac12000d",
     "history": [
      {
       "current": "f64e5334-13c3-11e7-b31a-0242ac12000d",
       "next": "f64e550a-13c3-11e7-b31a-0242ac12000d",
       "previous": "f64e5168-13c3-11e7-b31a-0242ac12000d"
      }
     ],
     "next": "855aa7d0-13c4-11e7-b31a-0242ac12000d",
     "previous": "855aa226-13c4-11e7-b31a-0242ac12000d"
    },
    "run_control": {
     "frozen": true
    },
    "scrolled": false
   },
   "outputs": [],
   "source": [
    "import os\n",
    "from IPython.display import SVG\n",
    "\n",
    "!blockdiag -f /usr/share/fonts/truetype/fonts-japanese-gothic.ttf -Tsvg \\\n",
    "           -o {work_dir}/notebooks.svg {work_dir}/notebooks.diag\n",
    "SVG(filename=os.path.join(work_dir, 'notebooks.svg'))"
   ]
  },
  {
   "cell_type": "markdown",
   "metadata": {
    "hidden": true,
    "lc_cell_meme": {
     "current": "855aa7d0-13c4-11e7-b31a-0242ac12000d",
     "history": [
      {
       "current": "855aa7d0-13c4-11e7-b31a-0242ac12000d",
       "next": "f64e550a-13c3-11e7-b31a-0242ac12000d",
       "previous": "f64e5334-13c3-11e7-b31a-0242ac12000d"
      },
      {
       "current": "855aa7d0-13c4-11e7-b31a-0242ac12000d",
       "next": "a4bb6fc2-4a7b-11e7-b37f-02420aff0006",
       "previous": "f64e5334-13c3-11e7-b31a-0242ac12000d"
      }
     ],
     "next": "ec3bef98-4a7b-11e7-b37f-02420aff0006",
     "previous": "f64e5334-13c3-11e7-b31a-0242ac12000d"
    }
   },
   "source": [
    "## 詳細情報の埋め込み\n",
    "\n",
    "生成した雛形に対して、見出しの情報など詳細な情報を埋め込みます。\n",
    "\n",
    "この手順により、人手での図編集作業を最低限にとどめつつ、Notebookのわかりやすい利用フロー図を生成できるようにしています。"
   ]
  },
  {
   "cell_type": "code",
   "execution_count": null,
   "metadata": {
    "collapsed": true,
    "hidden": true,
    "lc_cell_meme": {
     "current": "ec3bef98-4a7b-11e7-b37f-02420aff0006",
     "next": "f64e550a-13c3-11e7-b31a-0242ac12000d",
     "previous": "855aa7d0-13c4-11e7-b31a-0242ac12000d"
    },
    "run_control": {
     "frozen": true
    }
   },
   "outputs": [],
   "source": [
    "disabled = {}"
   ]
  },
  {
   "cell_type": "code",
   "execution_count": null,
   "metadata": {
    "hidden": true,
    "lc_cell_meme": {
     "current": "f64e550a-13c3-11e7-b31a-0242ac12000d",
     "history": [
      {
       "current": "f64e550a-13c3-11e7-b31a-0242ac12000d",
       "next": "f64e56d6-13c3-11e7-b31a-0242ac12000d",
       "previous": "f64e5334-13c3-11e7-b31a-0242ac12000d"
      },
      {
       "current": "f64e550a-13c3-11e7-b31a-0242ac12000d",
       "next": "f64e56d6-13c3-11e7-b31a-0242ac12000d",
       "previous": "855aa7d0-13c4-11e7-b31a-0242ac12000d"
      },
      {
       "current": "f64e550a-13c3-11e7-b31a-0242ac12000d",
       "next": "ccdd077e-13c4-11e7-b31a-0242ac12000d",
       "previous": "855aa7d0-13c4-11e7-b31a-0242ac12000d"
      },
      {
       "current": "f64e550a-13c3-11e7-b31a-0242ac12000d",
       "next": "f64e5c30-13c3-11e7-b31a-0242ac12000d",
       "previous": "855aa7d0-13c4-11e7-b31a-0242ac12000d"
      },
      {
       "current": "f64e550a-13c3-11e7-b31a-0242ac12000d",
       "next": "f64e5e10-13c3-11e7-b31a-0242ac12000d",
       "previous": "855aa7d0-13c4-11e7-b31a-0242ac12000d"
      },
      {
       "current": "f64e550a-13c3-11e7-b31a-0242ac12000d",
       "next": "0d37e028-1fd2-11e7-b31a-0242ac12000d",
       "previous": "855aa7d0-13c4-11e7-b31a-0242ac12000d"
      },
      {
       "current": "f64e550a-13c3-11e7-b31a-0242ac12000d",
       "next": "0d37e028-1fd2-11e7-b31a-0242ac12000d",
       "previous": "a4bb6fc2-4a7b-11e7-b37f-02420aff0006"
      }
     ],
     "next": "0d37e028-1fd2-11e7-b31a-0242ac12000d",
     "previous": "ec3bef98-4a7b-11e7-b37f-02420aff0006"
    },
    "run_control": {
     "frozen": true
    },
    "scrolled": false
   },
   "outputs": [],
   "source": [
    "import re\n",
    "from lxml import etree\n",
    "%run generate-diagram.py\n",
    "\n",
    "# Notebookの一覧列挙\n",
    "ref_notebooks = filter(lambda m: m, map(lambda n: re.match(r'(evaluation-tracer|recreators|newgame1|newgame2)\\.ipynb', n), os.listdir('.')))\n",
    "ref_notebooks = sorted(ref_notebooks, key=lambda m: m.group(1))\n",
    "notebook_headers = [(m.group(1), parse_headers(m.group(0))) for m in ref_notebooks]\n",
    "\n",
    "# 雛形の読み込み\n",
    "tree = etree.parse(os.path.join(work_dir, 'notebooks.svg'))\n",
    "        \n",
    "# 雛形をNotebook情報で置き換え\n",
    "for elem in list(tree.findall('{http://www.w3.org/2000/svg}text')):\n",
    "    if elem.getprevious() is not None and elem.getprevious().tag == '{http://www.w3.org/2000/svg}rect' \\\n",
    "       and len(elem.text) > 0:\n",
    "        target_headers = [(name, h) for name, h in notebook_headers if name.startswith(elem.text)]\n",
    "        rect_elem = elem.getprevious()\n",
    "        if len(target_headers) > 0:\n",
    "            rect = ((int(rect_elem.attrib['x']), int(rect_elem.attrib['y'])), (int(rect_elem.attrib['width']),\n",
    "                                                                               int(rect_elem.attrib['height'])))\n",
    "        \n",
    "            childpos = elem.getparent().index(elem)\n",
    "            parent_elem = elem.getparent()\n",
    "            remove_texts(elem)\n",
    "            insert_title(parent_elem, childpos, rect, target_headers[0][1][0][0], target_headers[0][0] + '.ipynb')            \n",
    "            insert_summary(parent_elem, childpos, rect, target_headers[0][1][0][1])\n",
    "            insert_headers(parent_elem, childpos, rect, target_headers[0][1][1:])\n",
    "        elif elem.text in disabled:\n",
    "            rect_elem.attrib['fill'] = 'rgb(192, 192, 192)'\n",
    "            rect = ((int(rect_elem.attrib['x']), int(rect_elem.attrib['y'])), (int(rect_elem.attrib['width']),\n",
    "                                                                               int(rect_elem.attrib['height'])))\n",
    "        \n",
    "            childpos = elem.getparent().index(elem)\n",
    "            parent_elem = elem.getparent()\n",
    "            remove_texts(elem)\n",
    "            insert_title(parent_elem, childpos, rect, disabled[elem.text][0])\n",
    "            insert_summary(parent_elem, childpos, rect, u'本デモ環境では利用できません')\n",
    "            insert_headers(parent_elem, childpos, rect, disabled[elem.text][1])\n",
    "        else:\n",
    "            print(elem.text)\n",
    "\n",
    "# SVGの保存・表示\n",
    "with open('notebooks-filled.svg', 'w') as f:\n",
    "    f.write(etree.tostring(tree, method='xml', pretty_print=True))\n",
    "\n",
    "SVG(filename='notebooks-filled.svg')"
   ]
  },
  {
   "cell_type": "markdown",
   "metadata": {
    "heading_collapsed": true,
    "lc_cell_meme": {
     "current": "0d37e028-1fd2-11e7-b31a-0242ac12000d",
     "next": "f11e7dfc-13c4-11e7-b31a-0242ac12000d",
     "previous": "f64e550a-13c3-11e7-b31a-0242ac12000d"
    }
   },
   "source": [
    "# 後始末\n",
    "\n",
    "一時ファイルを削除します。"
   ]
  },
  {
   "cell_type": "code",
   "execution_count": null,
   "metadata": {
    "collapsed": true,
    "hidden": true,
    "lc_cell_meme": {
     "current": "f11e7dfc-13c4-11e7-b31a-0242ac12000d",
     "history": [
      {
       "current": "f11e7dfc-13c4-11e7-b31a-0242ac12000d",
       "next": null,
       "previous": "f64e6540-13c3-11e7-b31a-0242ac12000d"
      }
     ],
     "next": null,
     "previous": "0d37e028-1fd2-11e7-b31a-0242ac12000d"
    },
    "run_control": {
     "frozen": true
    }
   },
   "outputs": [],
   "source": [
    "!rm -fr {work_dir}"
   ]
  }
 ],
 "metadata": {
  "anaconda-cloud": {},
  "kernelspec": {
   "display_name": "Python 2 (LC_wrapper)",
   "language": "python",
   "name": "python2-wrapper"
  },
  "language_info": {
   "file_extension": ".py",
   "mimetype": "text/x-python",
   "name": "python",
   "nbconvert_exporter": "python",
   "pygments_lexer": "ipython2",
   "version": "2.7.9"
  },
  "lc_notebook_meme": {
   "current": "f64e4038-13c3-11e7-b31a-0242ac12000d",
   "lc_server_signature": {
    "current": {
     "notebook_dir": "/notebooks",
     "notebook_path": "/evaluation-tracer",
     "server_url": "http://localhost:8888/",
     "signature_id": "cdfb1abc-a986-11e7-b932-0242ac130002"
    },
    "history": [
     {
      "notebook_dir": "/notebooks",
      "notebook_path": "/evaluation-tracer",
      "server_url": "http://pwd10-0-9-3-8888.host4.labs.play-with-docker.com/",
      "signature_id": "6a48c2b2-a715-11e7-870a-02420aff0006"
     }
    ]
   }
  },
  "toc": {
   "nav_menu": {
    "height": "191px",
    "width": "252px"
   },
   "number_sections": true,
   "sideBar": true,
   "skip_h1_title": false,
   "toc_cell": false,
   "toc_position": {
    "height": "823px",
    "left": "0px",
    "right": "1455px",
    "top": "106px",
    "width": "212px"
   },
   "toc_section_display": "block",
   "toc_window_display": true
  }
 },
 "nbformat": 4,
 "nbformat_minor": 1
}
